{
  "nbformat": 4,
  "nbformat_minor": 0,
  "metadata": {
    "colab": {
      "provenance": [],
      "authorship_tag": "ABX9TyNn/4IbeRXGEOsCnBJJZ6ev",
      "include_colab_link": true
    },
    "kernelspec": {
      "name": "python3",
      "display_name": "Python 3"
    },
    "language_info": {
      "name": "python"
    }
  },
  "cells": [
    {
      "cell_type": "markdown",
      "metadata": {
        "id": "view-in-github",
        "colab_type": "text"
      },
      "source": [
        "<a href=\"https://colab.research.google.com/github/ulischlickewei/Maths1-EGM-Winter2023/blob/main/Chapter_2-Sequences_and_series/20231116_Series_in_Sympy.ipynb\" target=\"_parent\"><img src=\"https://colab.research.google.com/assets/colab-badge.svg\" alt=\"Open In Colab\"/></a>"
      ]
    },
    {
      "cell_type": "markdown",
      "source": [
        "# 1) Example: exponential series"
      ],
      "metadata": {
        "id": "LzXk3I5P7EoK"
      }
    },
    {
      "cell_type": "code",
      "execution_count": null,
      "metadata": {
        "id": "HZyM6R0B2tpN"
      },
      "outputs": [],
      "source": [
        "x = 1\n",
        "def exponential_series(n):\n",
        "  import math\n",
        "  S = 0\n",
        "  for k in range(n):\n",
        "    S += x**k/math.factorial(k)\n",
        "  return S"
      ]
    },
    {
      "cell_type": "code",
      "source": [
        "for n in range(5):\n",
        "  print('S_', 10**n, ' = ',\n",
        "        exponential_series(10**n))"
      ],
      "metadata": {
        "colab": {
          "base_uri": "https://localhost:8080/"
        },
        "id": "NB9pgRHK3K_t",
        "outputId": "5c298392-eca1-480d-b9fa-0945b7a1e754"
      },
      "execution_count": null,
      "outputs": [
        {
          "output_type": "stream",
          "name": "stdout",
          "text": [
            "S_ 1  =  1.0\n",
            "S_ 10  =  2.7182815255731922\n",
            "S_ 100  =  2.7182818284590455\n",
            "S_ 1000  =  2.7182818284590455\n",
            "S_ 10000  =  2.7182818284590455\n"
          ]
        }
      ]
    },
    {
      "cell_type": "markdown",
      "source": [
        "#2) Finite sums in Python"
      ],
      "metadata": {
        "id": "eKgIryDf7JU1"
      }
    },
    {
      "cell_type": "code",
      "source": [
        "from sympy import *"
      ],
      "metadata": {
        "id": "J-CN4a0r3YMT"
      },
      "execution_count": null,
      "outputs": []
    },
    {
      "cell_type": "markdown",
      "source": [
        "Assume that we want to compute tenth partial sum of the harmonic series:\n",
        "$$\\sum_{n=1}^{10} \\frac{1}{n}.$$"
      ],
      "metadata": {
        "id": "N9D_huDh7PvC"
      }
    },
    {
      "cell_type": "markdown",
      "source": [
        "We use the `Sum` function from Sympy and we provide\n",
        "- First argument: the expression to be summed up (in our case $\\frac{1}{n}$)"
      ],
      "metadata": {
        "id": "4c58jHnG7m--"
      }
    },
    {
      "cell_type": "markdown",
      "source": [
        "- Second argument: a triple consisting of\n",
        "  1. Dummy variable over which my sum runs (in our case $n$)\n",
        "  2. Lower limit of my sum (in our case $1$)\n",
        "  3. Upper limit of my sum (in our case $10$)"
      ],
      "metadata": {
        "id": "Chd7QXoB7z79"
      }
    },
    {
      "cell_type": "code",
      "source": [
        "#10th partial sum\n",
        "n = symbols('n')\n",
        "S = Sum(1/n,(n, 1, 10))\n",
        "display(S)"
      ],
      "metadata": {
        "colab": {
          "base_uri": "https://localhost:8080/",
          "height": 69
        },
        "id": "MheHY-7m7OYf",
        "outputId": "2d1ef5ba-7be2-4f56-cdc4-d1027b2b7ef6"
      },
      "execution_count": null,
      "outputs": [
        {
          "output_type": "display_data",
          "data": {
            "text/plain": [
              "Sum(1/n, (n, 1, 10))"
            ],
            "text/latex": "$\\displaystyle \\sum_{n=1}^{10} \\frac{1}{n}$"
          },
          "metadata": {}
        }
      ]
    },
    {
      "cell_type": "code",
      "source": [
        "type(S)"
      ],
      "metadata": {
        "colab": {
          "base_uri": "https://localhost:8080/"
        },
        "id": "RhuwcScc8tl7",
        "outputId": "7a4c8783-4e40-48fa-e133-6f2970580905"
      },
      "execution_count": null,
      "outputs": [
        {
          "output_type": "execute_result",
          "data": {
            "text/plain": [
              "sympy.concrete.summations.Sum"
            ]
          },
          "metadata": {},
          "execution_count": 4
        }
      ]
    },
    {
      "cell_type": "markdown",
      "source": [
        "In order to force SymPy to compute the value of the sum, we call `.doit()`."
      ],
      "metadata": {
        "id": "n6P3VVvl9Nml"
      }
    },
    {
      "cell_type": "code",
      "source": [
        "S.doit()"
      ],
      "metadata": {
        "colab": {
          "base_uri": "https://localhost:8080/",
          "height": 51
        },
        "id": "xzslGaSM9I1h",
        "outputId": "01051bd9-4e49-4912-87c9-4d0ae60377ea"
      },
      "execution_count": null,
      "outputs": [
        {
          "output_type": "execute_result",
          "data": {
            "text/plain": [
              "7381/2520"
            ],
            "text/latex": "$\\displaystyle \\frac{7381}{2520}$"
          },
          "metadata": {},
          "execution_count": 5
        }
      ]
    },
    {
      "cell_type": "markdown",
      "source": [
        "We could also have variable lower or upper limits of a sum. As an example, we consider the $N$-th partial sum of the harmonic series:"
      ],
      "metadata": {
        "id": "8XvZbaQU9dFy"
      }
    },
    {
      "cell_type": "code",
      "source": [
        "N = symbols('N')\n",
        "S2 = Sum(1/n, (n,1,N))"
      ],
      "metadata": {
        "id": "EFfXlIib9W9z"
      },
      "execution_count": null,
      "outputs": []
    },
    {
      "cell_type": "code",
      "source": [
        "display(S2)"
      ],
      "metadata": {
        "colab": {
          "base_uri": "https://localhost:8080/",
          "height": 69
        },
        "id": "XQ2qkUjn9thk",
        "outputId": "ade7eead-2d36-4251-fc25-33989ee81fc4"
      },
      "execution_count": null,
      "outputs": [
        {
          "output_type": "display_data",
          "data": {
            "text/plain": [
              "Sum(1/n, (n, 1, N))"
            ],
            "text/latex": "$\\displaystyle \\sum_{n=1}^{N} \\frac{1}{n}$"
          },
          "metadata": {}
        }
      ]
    },
    {
      "cell_type": "code",
      "source": [
        "S2.doit()"
      ],
      "metadata": {
        "colab": {
          "base_uri": "https://localhost:8080/",
          "height": 38
        },
        "id": "xE_yb_5O9unV",
        "outputId": "ac0a7f19-9014-497c-e5c7-ef34b9b8f57e"
      },
      "execution_count": null,
      "outputs": [
        {
          "output_type": "execute_result",
          "data": {
            "text/plain": [
              "harmonic(N)"
            ],
            "text/latex": "$\\displaystyle \\operatorname{harmonic}{\\left(N \\right)}$"
          },
          "metadata": {},
          "execution_count": 9
        }
      ]
    },
    {
      "cell_type": "markdown",
      "source": [
        "As another example, let's look at the Gaussian sum formula:\n",
        "$$ \\sum_{n=1}^N n = \\frac{N(N+1)}{2}.$$"
      ],
      "metadata": {
        "id": "rx9mN5qn9_f0"
      }
    },
    {
      "cell_type": "code",
      "source": [
        "S3 = Sum(n,(n,1,N))\n",
        "display(S3)"
      ],
      "metadata": {
        "colab": {
          "base_uri": "https://localhost:8080/",
          "height": 69
        },
        "id": "5D4_WsiQ94zW",
        "outputId": "1cda3fb3-9912-4f59-896e-534d8ff927c5"
      },
      "execution_count": null,
      "outputs": [
        {
          "output_type": "display_data",
          "data": {
            "text/plain": [
              "Sum(n, (n, 1, N))"
            ],
            "text/latex": "$\\displaystyle \\sum_{n=1}^{N} n$"
          },
          "metadata": {}
        }
      ]
    },
    {
      "cell_type": "code",
      "source": [
        "S3.doit()"
      ],
      "metadata": {
        "colab": {
          "base_uri": "https://localhost:8080/",
          "height": 54
        },
        "id": "AeRgIh3h-_hS",
        "outputId": "00ab166e-305b-4f50-8758-14c3889db39d"
      },
      "execution_count": null,
      "outputs": [
        {
          "output_type": "execute_result",
          "data": {
            "text/plain": [
              "N**2/2 + N/2"
            ],
            "text/latex": "$\\displaystyle \\frac{N^{2}}{2} + \\frac{N}{2}$"
          },
          "metadata": {},
          "execution_count": 11
        }
      ]
    },
    {
      "cell_type": "markdown",
      "source": [
        "#3.) Series in SymPy"
      ],
      "metadata": {
        "id": "bJr9sw3Q_P_d"
      }
    },
    {
      "cell_type": "markdown",
      "source": [
        "**Example**: Geometric series\n",
        "$$\\sum_{n=0}^\\infty \\left( \\frac13 \\right)^n$$"
      ],
      "metadata": {
        "id": "Ns1q07oh_V7L"
      }
    },
    {
      "cell_type": "code",
      "source": [
        "n = symbols('n')\n",
        "S4= Sum(sympify(1)/3**n, (n, 0, oo))\n",
        "display(S4)"
      ],
      "metadata": {
        "colab": {
          "base_uri": "https://localhost:8080/",
          "height": 66
        },
        "id": "AMWQCr-P_Bl8",
        "outputId": "3a33a311-f6dd-482f-80ef-461419a6643b"
      },
      "execution_count": null,
      "outputs": [
        {
          "output_type": "display_data",
          "data": {
            "text/plain": [
              "Sum(3**(-n), (n, 0, oo))"
            ],
            "text/latex": "$\\displaystyle \\sum_{n=0}^{\\infty} 3^{- n}$"
          },
          "metadata": {}
        }
      ]
    },
    {
      "cell_type": "code",
      "source": [
        "S4.doit()"
      ],
      "metadata": {
        "colab": {
          "base_uri": "https://localhost:8080/",
          "height": 51
        },
        "id": "i70RmFpD_9sE",
        "outputId": "623cea1e-e83a-40b1-97cf-7771df9bc10d"
      },
      "execution_count": null,
      "outputs": [
        {
          "output_type": "execute_result",
          "data": {
            "text/plain": [
              "3/2"
            ],
            "text/latex": "$\\displaystyle \\frac{3}{2}$"
          },
          "metadata": {},
          "execution_count": 16
        }
      ]
    },
    {
      "cell_type": "code",
      "source": [
        "S4.is_convergent()"
      ],
      "metadata": {
        "colab": {
          "base_uri": "https://localhost:8080/",
          "height": 37
        },
        "id": "bi0NwyKWA2RT",
        "outputId": "5dcd1e54-7fa2-484e-e3b7-2255e201caa2"
      },
      "execution_count": null,
      "outputs": [
        {
          "output_type": "execute_result",
          "data": {
            "text/plain": [
              "True"
            ],
            "text/latex": "$\\displaystyle \\text{True}$"
          },
          "metadata": {},
          "execution_count": 17
        }
      ]
    },
    {
      "cell_type": "code",
      "source": [
        "S5 = Sum(1/n,(n,1,oo))\n",
        "S5"
      ],
      "metadata": {
        "colab": {
          "base_uri": "https://localhost:8080/",
          "height": 66
        },
        "id": "_3PXWLT_A683",
        "outputId": "e20b5195-85aa-4dc4-9bac-93a408706e82"
      },
      "execution_count": null,
      "outputs": [
        {
          "output_type": "execute_result",
          "data": {
            "text/plain": [
              "Sum(1/n, (n, 1, oo))"
            ],
            "text/latex": "$\\displaystyle \\sum_{n=1}^{\\infty} \\frac{1}{n}$"
          },
          "metadata": {},
          "execution_count": 18
        }
      ]
    },
    {
      "cell_type": "code",
      "source": [
        "S5.doit()"
      ],
      "metadata": {
        "colab": {
          "base_uri": "https://localhost:8080/",
          "height": 37
        },
        "id": "884VABoSBNDc",
        "outputId": "3ed61998-377e-453a-c6f6-e832695f36c2"
      },
      "execution_count": null,
      "outputs": [
        {
          "output_type": "execute_result",
          "data": {
            "text/plain": [
              "oo"
            ],
            "text/latex": "$\\displaystyle \\infty$"
          },
          "metadata": {},
          "execution_count": 19
        }
      ]
    },
    {
      "cell_type": "code",
      "source": [],
      "metadata": {
        "id": "e-i33Us3BN0X"
      },
      "execution_count": null,
      "outputs": []
    }
  ]
}