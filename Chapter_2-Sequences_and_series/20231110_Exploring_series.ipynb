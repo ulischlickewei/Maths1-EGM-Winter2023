{
  "nbformat": 4,
  "nbformat_minor": 0,
  "metadata": {
    "colab": {
      "provenance": [],
      "authorship_tag": "ABX9TyOzAa8yYq8K5oSMIV+oOVx9",
      "include_colab_link": true
    },
    "kernelspec": {
      "name": "python3",
      "display_name": "Python 3"
    },
    "language_info": {
      "name": "python"
    }
  },
  "cells": [
    {
      "cell_type": "markdown",
      "metadata": {
        "id": "view-in-github",
        "colab_type": "text"
      },
      "source": [
        "<a href=\"https://colab.research.google.com/github/ulischlickewei/Maths1-EGM-Winter2023/blob/main/Chapter_2-Sequences_and_series/20231110_Exploring_series.ipynb\" target=\"_parent\"><img src=\"https://colab.research.google.com/assets/colab-badge.svg\" alt=\"Open In Colab\"/></a>"
      ]
    },
    {
      "cell_type": "markdown",
      "source": [
        "## Exploring series\n",
        "\n",
        "**Example**: Compute the first partial sums of the geometric series\n",
        "$\\sum_{k=0}^\\infty \\left( \\frac12 \\right)^k$:\n",
        "$$s_n = \\sum_{k=0}^n \\left( \\frac12 \\right)^k.$$"
      ],
      "metadata": {
        "id": "KIp0EHGANxY3"
      }
    },
    {
      "cell_type": "code",
      "execution_count": null,
      "metadata": {
        "colab": {
          "base_uri": "https://localhost:8080/"
        },
        "id": "B6cUvTYANsgX",
        "outputId": "eecda3d6-d4cb-4124-a09e-0dd0f0cf8dea"
      },
      "outputs": [
        {
          "output_type": "execute_result",
          "data": {
            "text/plain": [
              "1.9375"
            ]
          },
          "metadata": {},
          "execution_count": 5
        }
      ],
      "source": [
        "n = 4\n",
        "S = 0\n",
        "for k in range(n+1):\n",
        "  S = S + (1/2)**k\n",
        "S"
      ]
    },
    {
      "cell_type": "code",
      "source": [
        "n = 8\n",
        "S = 0\n",
        "for k in range(n+1):\n",
        "  S = S + (1/2)**k\n",
        "S"
      ],
      "metadata": {
        "colab": {
          "base_uri": "https://localhost:8080/"
        },
        "id": "cbmAi6pQPBOz",
        "outputId": "a205a1b0-f5fd-4bee-ef6e-0f2911762d58"
      },
      "execution_count": null,
      "outputs": [
        {
          "output_type": "execute_result",
          "data": {
            "text/plain": [
              "1.99609375"
            ]
          },
          "metadata": {},
          "execution_count": 6
        }
      ]
    },
    {
      "cell_type": "code",
      "source": [
        "n = 100\n",
        "S = 0\n",
        "for k in range(n+1):\n",
        "  S = S + (1/2)**k\n",
        "S"
      ],
      "metadata": {
        "colab": {
          "base_uri": "https://localhost:8080/"
        },
        "id": "m_v-9ncpPTRC",
        "outputId": "7626dbbb-a28f-468f-f7a0-539b01d5732c"
      },
      "execution_count": null,
      "outputs": [
        {
          "output_type": "execute_result",
          "data": {
            "text/plain": [
              "2.0"
            ]
          },
          "metadata": {},
          "execution_count": 7
        }
      ]
    },
    {
      "cell_type": "markdown",
      "source": [
        "**Example**: Is the harmonic series $$\\sum_{k=1}^{\\infty} \\frac{1}{k}$$ convergent?"
      ],
      "metadata": {
        "id": "mPO-aFJKZRM6"
      }
    },
    {
      "cell_type": "code",
      "source": [
        "for i in range(8):\n",
        "  n = 10**i\n",
        "  S = 0\n",
        "  for k in range(1,n+1):\n",
        "   S = S + 1/k\n",
        "  print(n, ': ',S)"
      ],
      "metadata": {
        "colab": {
          "base_uri": "https://localhost:8080/"
        },
        "id": "e3fF9n3oZQt2",
        "outputId": "fe0c7178-c24d-4781-a24c-d04adbca6959"
      },
      "execution_count": 4,
      "outputs": [
        {
          "output_type": "stream",
          "name": "stdout",
          "text": [
            "1 :  1.0\n",
            "10 :  2.9289682539682538\n",
            "100 :  5.187377517639621\n",
            "1000 :  7.485470860550343\n",
            "10000 :  9.787606036044348\n",
            "100000 :  12.090146129863335\n",
            "1000000 :  14.392726722864989\n",
            "10000000 :  16.695311365857272\n"
          ]
        }
      ]
    },
    {
      "cell_type": "markdown",
      "source": [
        "## Exercise on recursive sequence (Ex. sheet 3, Ex 3)\n",
        "\n",
        "$a_1 = 1, a_{n+1} = \\frac14 a_n + b$"
      ],
      "metadata": {
        "id": "GyjHAdcLvmTp"
      }
    },
    {
      "cell_type": "code",
      "source": [
        "from sympy import *\n",
        "an = 1\n",
        "b = symbols('b')\n"
      ],
      "metadata": {
        "id": "FJOw5ncSPVJ1"
      },
      "execution_count": 8,
      "outputs": []
    },
    {
      "cell_type": "code",
      "source": [
        "for n in range(10):\n",
        "  an = 1/4 * an + b\n",
        "an"
      ],
      "metadata": {
        "colab": {
          "base_uri": "https://localhost:8080/",
          "height": 38
        },
        "id": "LOJYDyq4wKyE",
        "outputId": "a5df898f-f6ae-4679-ca0b-0c2c2eed7146"
      },
      "execution_count": 9,
      "outputs": [
        {
          "output_type": "execute_result",
          "data": {
            "text/plain": [
              "1.33333206176758*b + 9.5367431640625e-7"
            ],
            "text/latex": "$\\displaystyle 1.33333206176758 b + 9.5367431640625 \\cdot 10^{-7}$"
          },
          "metadata": {},
          "execution_count": 9
        }
      ]
    },
    {
      "cell_type": "code",
      "source": [],
      "metadata": {
        "id": "K8y1iVtzwOAy"
      },
      "execution_count": null,
      "outputs": []
    }
  ]
}