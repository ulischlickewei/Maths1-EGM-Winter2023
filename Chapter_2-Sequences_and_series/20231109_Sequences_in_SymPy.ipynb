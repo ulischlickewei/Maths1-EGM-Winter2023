{
  "nbformat": 4,
  "nbformat_minor": 0,
  "metadata": {
    "colab": {
      "provenance": [],
      "authorship_tag": "ABX9TyMiFkFwFAIrq7UlDzRRlOT3",
      "include_colab_link": true
    },
    "kernelspec": {
      "name": "python3",
      "display_name": "Python 3"
    },
    "language_info": {
      "name": "python"
    }
  },
  "cells": [
    {
      "cell_type": "markdown",
      "metadata": {
        "id": "view-in-github",
        "colab_type": "text"
      },
      "source": [
        "<a href=\"https://colab.research.google.com/github/ulischlickewei/Maths1-EGM-Winter2023/blob/main/Chapter_2-Sequences_and_series/20231109_Sequences_in_SymPy.ipynb\" target=\"_parent\"><img src=\"https://colab.research.google.com/assets/colab-badge.svg\" alt=\"Open In Colab\"/></a>"
      ]
    },
    {
      "cell_type": "markdown",
      "source": [
        "## 2) Sequences in SymPy"
      ],
      "metadata": {
        "id": "iwYNuXolsFS8"
      }
    },
    {
      "cell_type": "code",
      "execution_count": null,
      "metadata": {
        "id": "o5qDVszxpn9K"
      },
      "outputs": [],
      "source": [
        "from sympy import *"
      ]
    },
    {
      "cell_type": "markdown",
      "source": [
        "*Example*: Use SymPy to determine\n",
        "$$\\lim_{n\\to \\infty} \\sqrt[n]{q}$$"
      ],
      "metadata": {
        "id": "6CBfbxYnsWzT"
      }
    },
    {
      "cell_type": "code",
      "source": [
        "def seq(n):\n",
        "  return q**(1/n)"
      ],
      "metadata": {
        "id": "b6cCji1wsPnN"
      },
      "execution_count": null,
      "outputs": []
    },
    {
      "cell_type": "code",
      "source": [
        "q=6\n",
        "n = symbols('n')\n",
        "limit(seq(n),n,oo)"
      ],
      "metadata": {
        "colab": {
          "base_uri": "https://localhost:8080/",
          "height": 37
        },
        "id": "nK2mAefWs2tQ",
        "outputId": "b8f06f16-dd0f-4cc6-bcb5-ee0f878da208"
      },
      "execution_count": null,
      "outputs": [
        {
          "output_type": "execute_result",
          "data": {
            "text/plain": [
              "1"
            ],
            "text/latex": "$\\displaystyle 1$"
          },
          "metadata": {},
          "execution_count": 3
        }
      ]
    },
    {
      "cell_type": "code",
      "source": [
        "seq(n)"
      ],
      "metadata": {
        "colab": {
          "base_uri": "https://localhost:8080/",
          "height": 39
        },
        "id": "rjmaCI_VtXB7",
        "outputId": "7044676e-aa84-4edc-bc2b-052a868b0c33"
      },
      "execution_count": null,
      "outputs": [
        {
          "output_type": "execute_result",
          "data": {
            "text/plain": [
              "6**(1/n)"
            ],
            "text/latex": "$\\displaystyle 6^{\\frac{1}{n}}$"
          },
          "metadata": {},
          "execution_count": 4
        }
      ]
    },
    {
      "cell_type": "code",
      "source": [
        "limit(6**(1/n), n, oo)"
      ],
      "metadata": {
        "colab": {
          "base_uri": "https://localhost:8080/",
          "height": 37
        },
        "id": "6VdCoZfFtlSz",
        "outputId": "35d64338-6f7a-44ef-dc49-f577d9e479b9"
      },
      "execution_count": null,
      "outputs": [
        {
          "output_type": "execute_result",
          "data": {
            "text/plain": [
              "1"
            ],
            "text/latex": "$\\displaystyle 1$"
          },
          "metadata": {},
          "execution_count": 5
        }
      ]
    },
    {
      "cell_type": "code",
      "source": [
        "from sympy import *\n",
        "q = symbols('q', positive = True)\n",
        "n = symbols('n')\n",
        "limit(q**(1/n), n, oo)"
      ],
      "metadata": {
        "colab": {
          "base_uri": "https://localhost:8080/",
          "height": 37
        },
        "id": "fy6oaH01tvQo",
        "outputId": "8d64d939-1996-4789-806b-4306c499d4cb"
      },
      "execution_count": null,
      "outputs": [
        {
          "output_type": "execute_result",
          "data": {
            "text/plain": [
              "1"
            ],
            "text/latex": "$\\displaystyle 1$"
          },
          "metadata": {},
          "execution_count": 8
        }
      ]
    },
    {
      "cell_type": "markdown",
      "source": [
        "*Exercise*: For which values of $a\\in\\mathbb{R}$ is the sequence\n",
        "$$a_n = \\frac{e^{an} (n^2+3n)}{n^a (an^2+ 2n +4)}$$\n",
        "convergent?"
      ],
      "metadata": {
        "id": "WScx8X1JvPLB"
      }
    },
    {
      "cell_type": "code",
      "source": [
        "a = symbols('a', positive = True)\n",
        "n = symbols('n')\n",
        "an = (exp(a*n) * (n**2 + 3*n)) / (\n",
        "    n**a * (a*n**2 + 2*n + 4)\n",
        ")\n",
        "an"
      ],
      "metadata": {
        "colab": {
          "base_uri": "https://localhost:8080/",
          "height": 57
        },
        "id": "NoPyajhiuAiS",
        "outputId": "5ea47e07-a3d1-4a9c-fac7-e1cbb454f3d4"
      },
      "execution_count": null,
      "outputs": [
        {
          "output_type": "execute_result",
          "data": {
            "text/plain": [
              "(n**2 + 3*n)*exp(a*n)/(n**a*(a*n**2 + 2*n + 4))"
            ],
            "text/latex": "$\\displaystyle \\frac{n^{- a} \\left(n^{2} + 3 n\\right) e^{a n}}{a n^{2} + 2 n + 4}$"
          },
          "metadata": {},
          "execution_count": 13
        }
      ]
    },
    {
      "cell_type": "code",
      "source": [
        "limit(an, n, oo)"
      ],
      "metadata": {
        "colab": {
          "base_uri": "https://localhost:8080/",
          "height": 37
        },
        "id": "1gnZkq1Wv8OD",
        "outputId": "b93c11d6-a1a7-4082-9515-7ee146e6e77b"
      },
      "execution_count": null,
      "outputs": [
        {
          "output_type": "execute_result",
          "data": {
            "text/plain": [
              "oo"
            ],
            "text/latex": "$\\displaystyle \\infty$"
          },
          "metadata": {},
          "execution_count": 14
        }
      ]
    },
    {
      "cell_type": "code",
      "source": [
        "a = symbols('a', negative = True)\n",
        "n = symbols('n')\n",
        "an = (exp(a*n) * (n**2 + 3*n)) / (\n",
        "    n**a * (a*n**2 + 2*n + 4)\n",
        ")\n",
        "display(an)\n",
        "limit(an, n, oo)"
      ],
      "metadata": {
        "colab": {
          "base_uri": "https://localhost:8080/",
          "height": 77
        },
        "id": "0z8uFYZwwOYQ",
        "outputId": "6639b5cb-41b6-4393-e45e-284e4df1db96"
      },
      "execution_count": null,
      "outputs": [
        {
          "output_type": "display_data",
          "data": {
            "text/plain": [
              "(n**2 + 3*n)*exp(a*n)/(n**a*(a*n**2 + 2*n + 4))"
            ],
            "text/latex": "$\\displaystyle \\frac{n^{- a} \\left(n^{2} + 3 n\\right) e^{a n}}{a n^{2} + 2 n + 4}$"
          },
          "metadata": {}
        },
        {
          "output_type": "execute_result",
          "data": {
            "text/plain": [
              "0"
            ],
            "text/latex": "$\\displaystyle 0$"
          },
          "metadata": {},
          "execution_count": 16
        }
      ]
    },
    {
      "cell_type": "code",
      "source": [
        "a = 0\n",
        "n = symbols('n')\n",
        "an = (exp(a*n) * (n**2 + 3*n)) / (\n",
        "    n**a * (a*n**2 + 2*n + 4)\n",
        ")\n",
        "display(an)\n",
        "limit(an, n, oo)"
      ],
      "metadata": {
        "colab": {
          "base_uri": "https://localhost:8080/",
          "height": 75
        },
        "id": "dWdk6HHhxUU-",
        "outputId": "52a97962-8400-42ee-b0a1-93ef58df7afc"
      },
      "execution_count": null,
      "outputs": [
        {
          "output_type": "display_data",
          "data": {
            "text/plain": [
              "(n**2 + 3*n)/(2*n + 4)"
            ],
            "text/latex": "$\\displaystyle \\frac{n^{2} + 3 n}{2 n + 4}$"
          },
          "metadata": {}
        },
        {
          "output_type": "execute_result",
          "data": {
            "text/plain": [
              "oo"
            ],
            "text/latex": "$\\displaystyle \\infty$"
          },
          "metadata": {},
          "execution_count": 17
        }
      ]
    },
    {
      "cell_type": "code",
      "source": [
        "a = 1\n",
        "n = symbols('n')\n",
        "an = (exp(a*n) * (n**2 + 3*n)) / (\n",
        "    n**a * (a*n**2 + 2*n + 4)\n",
        ")\n",
        "limit(an, n, 10)"
      ],
      "metadata": {
        "colab": {
          "base_uri": "https://localhost:8080/",
          "height": 54
        },
        "id": "nzobY6QwxumO",
        "outputId": "815f5390-3ffd-4b70-cb23-04a39b947785"
      },
      "execution_count": null,
      "outputs": [
        {
          "output_type": "execute_result",
          "data": {
            "text/plain": [
              "13*exp(10)/124"
            ],
            "text/latex": "$\\displaystyle \\frac{13 e^{10}}{124}$"
          },
          "metadata": {},
          "execution_count": 20
        }
      ]
    },
    {
      "cell_type": "code",
      "source": [
        "a = symbols('a')\n",
        "n = symbols('n')\n",
        "an = (exp(a*n) * (n**2 + 3*n)) / (\n",
        "    n**a * (a*n**2 + 2*n + 4)\n",
        ")\n",
        "an"
      ],
      "metadata": {
        "colab": {
          "base_uri": "https://localhost:8080/",
          "height": 57
        },
        "id": "hJXuAra8yDW1",
        "outputId": "95da1346-c563-4160-a5c3-7b7a307aa203"
      },
      "execution_count": null,
      "outputs": [
        {
          "output_type": "execute_result",
          "data": {
            "text/plain": [
              "(n**2 + 3*n)*exp(a*n)/(n**a*(a*n**2 + 2*n + 4))"
            ],
            "text/latex": "$\\displaystyle \\frac{n^{- a} \\left(n^{2} + 3 n\\right) e^{a n}}{a n^{2} + 2 n + 4}$"
          },
          "metadata": {},
          "execution_count": 22
        }
      ]
    },
    {
      "cell_type": "code",
      "source": [
        "# To evalaute this expression for specific values of a\n",
        "# we can use the command subs\n",
        "an.subs(a,1) #evaluates the expression using the value 1 for a"
      ],
      "metadata": {
        "colab": {
          "base_uri": "https://localhost:8080/",
          "height": 60
        },
        "id": "bNx_-IpGycEz",
        "outputId": "d99a5cd1-5e5d-4229-ba98-5361e3c1766a"
      },
      "execution_count": null,
      "outputs": [
        {
          "output_type": "execute_result",
          "data": {
            "text/plain": [
              "(n**2 + 3*n)*exp(n)/(n*(n**2 + 2*n + 4))"
            ],
            "text/latex": "$\\displaystyle \\frac{\\left(n^{2} + 3 n\\right) e^{n}}{n \\left(n^{2} + 2 n + 4\\right)}$"
          },
          "metadata": {},
          "execution_count": 23
        }
      ]
    },
    {
      "cell_type": "code",
      "source": [
        "# To evaluate this expression for specific values of both\n",
        "# symbols\n",
        "an.subs({a : 1, n : 100}) # evaluates an at a = 1 and n = 100"
      ],
      "metadata": {
        "colab": {
          "base_uri": "https://localhost:8080/",
          "height": 54
        },
        "id": "PnBFKbvmysvY",
        "outputId": "c3091f96-e57b-4830-b419-808a33b3144c"
      },
      "execution_count": null,
      "outputs": [
        {
          "output_type": "execute_result",
          "data": {
            "text/plain": [
              "103*exp(100)/10204"
            ],
            "text/latex": "$\\displaystyle \\frac{103 e^{100}}{10204}$"
          },
          "metadata": {},
          "execution_count": 24
        }
      ]
    },
    {
      "cell_type": "markdown",
      "source": [
        "## Recursive sequences"
      ],
      "metadata": {
        "id": "FJOD_7Vk0TfP"
      }
    },
    {
      "cell_type": "code",
      "source": [
        "an = 1\n",
        "n = 10\n",
        "for i in range(n):\n",
        "  an = sqrt(2*an)\n",
        "  print('a_', i+2, ' = ', an.evalf())"
      ],
      "metadata": {
        "colab": {
          "base_uri": "https://localhost:8080/"
        },
        "id": "AtddGSDkzClo",
        "outputId": "336108be-54e0-43c9-cbda-546f37460ce6"
      },
      "execution_count": null,
      "outputs": [
        {
          "output_type": "stream",
          "name": "stdout",
          "text": [
            "a_ 2  =  1.41421356237310\n",
            "a_ 3  =  1.68179283050743\n",
            "a_ 4  =  1.83400808640934\n",
            "a_ 5  =  1.91520656139715\n",
            "a_ 6  =  1.95714412417540\n",
            "a_ 7  =  1.97845602638795\n",
            "a_ 8  =  1.98919884696727\n",
            "a_ 9  =  1.99459211217094\n",
            "a_ 10  =  1.99729422578194\n",
            "a_ 11  =  1.99864665500530\n"
          ]
        }
      ]
    },
    {
      "cell_type": "code",
      "source": [],
      "metadata": {
        "id": "6pEVtbfE0qni"
      },
      "execution_count": null,
      "outputs": []
    }
  ]
}