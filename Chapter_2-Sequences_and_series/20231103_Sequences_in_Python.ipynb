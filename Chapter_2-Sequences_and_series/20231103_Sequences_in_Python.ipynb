{
  "nbformat": 4,
  "nbformat_minor": 0,
  "metadata": {
    "colab": {
      "provenance": [],
      "authorship_tag": "ABX9TyN2BC+ube9XdiDDwRU3qrF0",
      "include_colab_link": true
    },
    "kernelspec": {
      "name": "python3",
      "display_name": "Python 3"
    },
    "language_info": {
      "name": "python"
    }
  },
  "cells": [
    {
      "cell_type": "markdown",
      "metadata": {
        "id": "view-in-github",
        "colab_type": "text"
      },
      "source": [
        "<a href=\"https://colab.research.google.com/github/ulischlickewei/Maths1-EGM-Winter2023/blob/main/Chapter_2-Sequences_and_series/20231103_Sequences_in_Python.ipynb\" target=\"_parent\"><img src=\"https://colab.research.google.com/assets/colab-badge.svg\" alt=\"Open In Colab\"/></a>"
      ]
    },
    {
      "cell_type": "markdown",
      "source": [
        "# 1. Exploring sequences numerically"
      ],
      "metadata": {
        "id": "37Ht7-BBe0qC"
      }
    },
    {
      "cell_type": "code",
      "source": [
        "a = 2\n"
      ],
      "metadata": {
        "id": "ReaRKAcKeudG"
      },
      "execution_count": null,
      "outputs": []
    },
    {
      "cell_type": "code",
      "execution_count": null,
      "metadata": {
        "id": "zwOc-aAWeq3G"
      },
      "outputs": [],
      "source": [
        "# define a function depending on n which computes an\n",
        "def seq(n):\n",
        "  import math\n",
        "  return math.exp(a*n) *(n**2+3*n)/(\n",
        "      n**a * (n**2 + 2*n +4))"
      ]
    },
    {
      "cell_type": "code",
      "source": [
        "for n in range(6):\n",
        "  print(2**n, ': ', seq(2**n))"
      ],
      "metadata": {
        "colab": {
          "base_uri": "https://localhost:8080/"
        },
        "id": "ktrDs9Vfe1OH",
        "outputId": "7040795b-d535-4d42-bd95-433886b4e7c1"
      },
      "execution_count": null,
      "outputs": [
        {
          "output_type": "stream",
          "name": "stdout",
          "text": [
            "1 :  4.222317770817514\n",
            "2 :  11.374614590238382\n",
            "4 :  186.30987419010802\n",
            "8 :  145457.16625831337\n",
            "16 :  321125052112.78534\n",
            "32 :  6.24514130690266e+24\n"
          ]
        }
      ]
    },
    {
      "cell_type": "code",
      "source": [
        "a = -1\n",
        "for n in range(6):\n",
        "  print(2**n, ': ', seq(2**n))"
      ],
      "metadata": {
        "colab": {
          "base_uri": "https://localhost:8080/"
        },
        "id": "6vMPRSjHgA10",
        "outputId": "47394733-8577-45ca-d774-1d20a5b4fe1c"
      },
      "execution_count": null,
      "outputs": [
        {
          "output_type": "stream",
          "name": "stdout",
          "text": [
            "1 :  0.21021682352653848\n",
            "2 :  0.2255588053943545\n",
            "4 :  0.07326255555493673\n",
            "8 :  0.002811496310040099\n",
            "16 :  1.8745585268303986e-06\n",
            "32 :  4.156444077651422e-13\n"
          ]
        }
      ]
    },
    {
      "cell_type": "code",
      "source": [
        "a=0.1\n",
        "for n in range(6):\n",
        "  print(5**n, ': ', seq(5**n))"
      ],
      "metadata": {
        "colab": {
          "base_uri": "https://localhost:8080/"
        },
        "id": "wJxHqMbAgqX5",
        "outputId": "ea4d6711-cdc3-4f92-e875-8d8f81f538fc"
      },
      "execution_count": null,
      "outputs": [
        {
          "output_type": "stream",
          "name": "stdout",
          "text": [
            "1 :  0.6315262389003701\n",
            "5 :  1.439612552673043\n",
            "25 :  9.102705026385793\n",
            "125 :  166834.8812028779\n",
            "625 :  7.319893917563112e+26\n",
            "3125 :  2.331735463522602e+135\n"
          ]
        }
      ]
    },
    {
      "cell_type": "markdown",
      "source": [
        "## Example on page 14: n-th root"
      ],
      "metadata": {
        "id": "O8ug-zTZh1r2"
      }
    },
    {
      "cell_type": "code",
      "source": [
        "q=6\n",
        "def seq2(n):\n",
        "  return q**(1/n)\n"
      ],
      "metadata": {
        "id": "YDkNgJMpg9TB"
      },
      "execution_count": null,
      "outputs": []
    },
    {
      "cell_type": "code",
      "source": [
        "for n in range(10):\n",
        "  print(10**n, ': ', seq2(10**n))"
      ],
      "metadata": {
        "colab": {
          "base_uri": "https://localhost:8080/"
        },
        "id": "f0U7dmVMi4sM",
        "outputId": "b12a1cf7-e5c9-43e7-fff1-cb229e6798ba"
      },
      "execution_count": null,
      "outputs": [
        {
          "output_type": "stream",
          "name": "stdout",
          "text": [
            "1 :  6.0\n",
            "10 :  1.1962311988513155\n",
            "100 :  1.0180790778133073\n",
            "1000 :  1.0017933656293667\n",
            "10000 :  1.0001791919998915\n",
            "100000 :  1.0000179177552133\n",
            "1000000 :  1.0000017917610744\n",
            "10000000 :  1.000000179175963\n",
            "100000000 :  1.000000017917595\n",
            "1000000000 :  1.0000000017917594\n"
          ]
        }
      ]
    },
    {
      "cell_type": "code",
      "source": [
        "q = 0.1\n",
        "for n in range(10):\n",
        "  print(10**n, ': ', seq2(10**n))"
      ],
      "metadata": {
        "colab": {
          "base_uri": "https://localhost:8080/"
        },
        "id": "errdnVfAi5Qv",
        "outputId": "8ddf5c8a-accc-4612-d3e0-b2724d4236d2"
      },
      "execution_count": null,
      "outputs": [
        {
          "output_type": "stream",
          "name": "stdout",
          "text": [
            "1 :  0.1\n",
            "10 :  0.7943282347242815\n",
            "100 :  0.9772372209558107\n",
            "1000 :  0.9977000638225533\n",
            "10000 :  0.9997697679981565\n",
            "100000 :  0.9999769744141629\n",
            "1000000 :  0.999997697417558\n",
            "10000000 :  0.9999997697415172\n",
            "100000000 :  0.9999999769741493\n",
            "1000000000 :  0.9999999976974149\n"
          ]
        }
      ]
    },
    {
      "cell_type": "code",
      "source": [],
      "metadata": {
        "id": "MdqThP0YjKtX"
      },
      "execution_count": null,
      "outputs": []
    }
  ]
}