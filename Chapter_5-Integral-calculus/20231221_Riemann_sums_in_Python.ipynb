{
  "nbformat": 4,
  "nbformat_minor": 0,
  "metadata": {
    "colab": {
      "provenance": [],
      "authorship_tag": "ABX9TyMArQe7YtKE5c6QIyX1u5HL",
      "include_colab_link": true
    },
    "kernelspec": {
      "name": "python3",
      "display_name": "Python 3"
    },
    "language_info": {
      "name": "python"
    }
  },
  "cells": [
    {
      "cell_type": "markdown",
      "metadata": {
        "id": "view-in-github",
        "colab_type": "text"
      },
      "source": [
        "<a href=\"https://colab.research.google.com/github/ulischlickewei/Maths1-EGM-Winter2023/blob/main/5-integral-calculus/20231221_Riemann_sums_in_Python.ipynb\" target=\"_parent\"><img src=\"https://colab.research.google.com/assets/colab-badge.svg\" alt=\"Open In Colab\"/></a>"
      ]
    },
    {
      "cell_type": "markdown",
      "source": [
        "**Exercise**: Program a function\n",
        "\n",
        "`lower_sum(n,a,b)` which computes the lower Riemann sum of the function\n",
        "$$f: \\mathbb{R}\\to\\mathbb{R}, \\quad x \\mapsto \\frac13 x^2$$\n",
        " in the interval $[a,b]$. Here, $n$  is the number of intermediate point in the interval used for the Riemann sum.\n",
        "\n",
        "Consider a Riemann sum\n",
        "$$\\sum_{i=1}^n f(x_i) \\cdot \\Delta_n$$\n",
        "with $x_i$ being the point in the $i$-th subinterval and $\\Delta_n$ being the width of the subinterval.\n",
        "\n",
        "Such a Riemann sum is a lower Riemann sum if $x_i$ is the lower boundary of the $i$-th subinterval."
      ],
      "metadata": {
        "id": "QWesDMdE2ZNY"
      }
    },
    {
      "cell_type": "code",
      "source": [
        "def lower_sum(n,a,b):\n",
        "  delta_n = (b-a)/n\n",
        "  riemann_sum=0\n",
        "  for i in range(n):\n",
        "    xi = a + i*delta_n\n",
        "    riemann_sum += 1/3*xi**2 * delta_n\n",
        "  return riemann_sum"
      ],
      "metadata": {
        "id": "j1TeXqM-3AF0"
      },
      "execution_count": null,
      "outputs": []
    },
    {
      "cell_type": "code",
      "source": [
        "lower_sum(2,1,3)"
      ],
      "metadata": {
        "colab": {
          "base_uri": "https://localhost:8080/"
        },
        "id": "NcMmGGpSEoMC",
        "outputId": "f2e7e06d-9431-412a-f18f-e84b49065d47"
      },
      "execution_count": null,
      "outputs": [
        {
          "output_type": "execute_result",
          "data": {
            "text/plain": [
              "1.6666666666666665"
            ]
          },
          "metadata": {},
          "execution_count": 4
        }
      ]
    },
    {
      "cell_type": "code",
      "source": [
        "lower_sum(10,1,3)"
      ],
      "metadata": {
        "colab": {
          "base_uri": "https://localhost:8080/"
        },
        "id": "VCc4XgsUEyHr",
        "outputId": "091c9836-02f9-4c3b-d767-68328c232ac8"
      },
      "execution_count": null,
      "outputs": [
        {
          "output_type": "execute_result",
          "data": {
            "text/plain": [
              "2.626666666666667"
            ]
          },
          "metadata": {},
          "execution_count": 5
        }
      ]
    },
    {
      "cell_type": "code",
      "source": [
        "lower_sum(100,1,3)"
      ],
      "metadata": {
        "colab": {
          "base_uri": "https://localhost:8080/"
        },
        "id": "ljl6-_MSE5zC",
        "outputId": "785262ad-d681-4863-e59c-ef4af735e1b2"
      },
      "execution_count": null,
      "outputs": [
        {
          "output_type": "execute_result",
          "data": {
            "text/plain": [
              "2.862266666666667"
            ]
          },
          "metadata": {},
          "execution_count": 6
        }
      ]
    },
    {
      "cell_type": "code",
      "source": [
        "lower_sum(1000,1,3)"
      ],
      "metadata": {
        "colab": {
          "base_uri": "https://localhost:8080/"
        },
        "id": "RXK3PUaEE9k7",
        "outputId": "70baffe3-fdcf-49bf-ec91-1f5da068fb06"
      },
      "execution_count": null,
      "outputs": [
        {
          "output_type": "execute_result",
          "data": {
            "text/plain": [
              "2.886222666666668"
            ]
          },
          "metadata": {},
          "execution_count": 7
        }
      ]
    },
    {
      "cell_type": "code",
      "source": [
        "lower_sum(100000,1,3)"
      ],
      "metadata": {
        "colab": {
          "base_uri": "https://localhost:8080/"
        },
        "id": "YY1ToXvqFAgv",
        "outputId": "803356c3-e135-43ee-9dcc-35721b8ef8bf"
      },
      "execution_count": null,
      "outputs": [
        {
          "output_type": "execute_result",
          "data": {
            "text/plain": [
              "2.888862222266692"
            ]
          },
          "metadata": {},
          "execution_count": 8
        }
      ]
    },
    {
      "cell_type": "code",
      "source": [
        "26/9"
      ],
      "metadata": {
        "colab": {
          "base_uri": "https://localhost:8080/"
        },
        "id": "9qNLxPkDFFki",
        "outputId": "578f9f4d-91d7-4b4a-fb9d-db9fe077ae34"
      },
      "execution_count": null,
      "outputs": [
        {
          "output_type": "execute_result",
          "data": {
            "text/plain": [
              "2.888888888888889"
            ]
          },
          "metadata": {},
          "execution_count": 9
        }
      ]
    },
    {
      "cell_type": "markdown",
      "source": [
        "## 2) Computing integrals with SymPy\n",
        "\n",
        "The function `integrate()` allows us to compute integrals symbolically in Python.\n",
        "\n",
        "**Exercise**: Compute\n",
        "$$\\int_0^1 x\\cdot \\cos(x) \\mathrm{d}x.$$"
      ],
      "metadata": {
        "id": "8VkkJtOeOyaG"
      }
    },
    {
      "cell_type": "code",
      "source": [
        "from sympy import *\n",
        "x = symbols('x')\n",
        "\n",
        "## Calling integrate with two arguments\n",
        "## a) an symbolic expression as integrand\n",
        "## b) the variable of intetgration (a symbol)\n",
        "## --> result: primitive function of the integrand\n",
        "integrate(x*cos(x),x)"
      ],
      "metadata": {
        "colab": {
          "base_uri": "https://localhost:8080/",
          "height": 38
        },
        "id": "4dJyGXNrKVzv",
        "outputId": "967d7316-a22b-41cd-86bb-1f5d0a6b4b48"
      },
      "execution_count": null,
      "outputs": [
        {
          "output_type": "execute_result",
          "data": {
            "text/plain": [
              "x*sin(x) + cos(x)"
            ],
            "text/latex": "$\\displaystyle x \\sin{\\left(x \\right)} + \\cos{\\left(x \\right)}$"
          },
          "metadata": {},
          "execution_count": 2
        }
      ]
    },
    {
      "cell_type": "code",
      "source": [
        "## Calling integrate with two additional arguments to compute\n",
        "## a definite integral\n",
        "## c) lower limit of integration (here: 0)\n",
        "## d) upper limit of integration (here: 1)\n",
        "## limits could also be symbolic variables\n",
        "integrate(x*cos(x),(x,0,1))"
      ],
      "metadata": {
        "id": "WUFo3hmCPXo3",
        "colab": {
          "base_uri": "https://localhost:8080/",
          "height": 37
        },
        "outputId": "8a826149-1826-44dc-9f53-355d413ec552"
      },
      "execution_count": 3,
      "outputs": [
        {
          "output_type": "execute_result",
          "data": {
            "text/plain": [
              "-1 + cos(1) + sin(1)"
            ],
            "text/latex": "$\\displaystyle -1 + \\cos{\\left(1 \\right)} + \\sin{\\left(1 \\right)}$"
          },
          "metadata": {},
          "execution_count": 3
        }
      ]
    },
    {
      "cell_type": "markdown",
      "source": [
        "**Example** Compute\n",
        "$$ \\int_0^{2\\pi} |\\sin(x) | \\mathrm{d}x.$$"
      ],
      "metadata": {
        "id": "QxeIXOzbQOeJ"
      }
    },
    {
      "cell_type": "code",
      "source": [
        "integrate(abs(sin(x)),(x,0,2*pi))"
      ],
      "metadata": {
        "colab": {
          "base_uri": "https://localhost:8080/",
          "height": 37
        },
        "id": "kFIG79-PQFH8",
        "outputId": "02cda812-1ad3-4d72-cdca-c0b99aa97c76"
      },
      "execution_count": 4,
      "outputs": [
        {
          "output_type": "execute_result",
          "data": {
            "text/plain": [
              "4"
            ],
            "text/latex": "$\\displaystyle 4$"
          },
          "metadata": {},
          "execution_count": 4
        }
      ]
    },
    {
      "cell_type": "code",
      "source": [],
      "metadata": {
        "id": "ANcpgtYhQe3w"
      },
      "execution_count": null,
      "outputs": []
    }
  ]
}