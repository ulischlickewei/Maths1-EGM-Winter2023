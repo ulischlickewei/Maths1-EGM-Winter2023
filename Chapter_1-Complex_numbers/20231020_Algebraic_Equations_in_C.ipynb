{
  "cells": [
    {
      "cell_type": "markdown",
      "metadata": {
        "id": "view-in-github",
        "colab_type": "text"
      },
      "source": [
        "<a href=\"https://colab.research.google.com/github/ulischlickewei/Maths1-EGM-Winter2023/blob/main/Chapter_1-Complex_numbers/20231020_Algebraic_Equations_in_C.ipynb\" target=\"_parent\"><img src=\"https://colab.research.google.com/assets/colab-badge.svg\" alt=\"Open In Colab\"/></a>"
      ]
    },
    {
      "cell_type": "markdown",
      "id": "00c21b3e",
      "metadata": {
        "id": "00c21b3e"
      },
      "source": [
        "\n",
        "# 1) SymPy\n",
        "We start with a continuation of the discussion of symbolic vs numeric arithmetic"
      ]
    },
    {
      "cell_type": "markdown",
      "id": "495e58c3",
      "metadata": {
        "id": "495e58c3"
      },
      "source": [
        "## 1.1: Symbolic vs. numeric arithmetic"
      ]
    },
    {
      "cell_type": "code",
      "source": [],
      "metadata": {
        "id": "W1a-gQq0QS24"
      },
      "id": "W1a-gQq0QS24",
      "execution_count": null,
      "outputs": []
    },
    {
      "cell_type": "code",
      "execution_count": 1,
      "id": "76c6f3ef",
      "metadata": {
        "id": "76c6f3ef"
      },
      "outputs": [],
      "source": [
        "from sympy import *"
      ]
    },
    {
      "cell_type": "markdown",
      "id": "a39def7c",
      "metadata": {
        "id": "a39def7c"
      },
      "source": [
        "We start our exploration of SymPy by a simple observation. We compute the square root of 2 using the `math` module. As expected we obtain a floating point number with value 1.41...\n",
        "\n",
        "Next, we \"compute\" the square root of 2 using the `sympy` function `sqrt()`. This time we get a value $\\sqrt{2}$ which represents the *exact* value."
      ]
    },
    {
      "cell_type": "code",
      "source": [
        "import math\n",
        "math.sqrt(2)"
      ],
      "metadata": {
        "colab": {
          "base_uri": "https://localhost:8080/"
        },
        "id": "HhrHt6pI9h5V",
        "outputId": "50053265-9570-492e-cbeb-90ae6b4b59fc"
      },
      "id": "HhrHt6pI9h5V",
      "execution_count": 2,
      "outputs": [
        {
          "output_type": "execute_result",
          "data": {
            "text/plain": [
              "1.4142135623730951"
            ]
          },
          "metadata": {},
          "execution_count": 2
        }
      ]
    },
    {
      "cell_type": "code",
      "source": [
        "# SymPy square root of 2\n",
        "sqrt(2)"
      ],
      "metadata": {
        "colab": {
          "base_uri": "https://localhost:8080/",
          "height": 59
        },
        "id": "et4yuI-c9iHt",
        "outputId": "cbbe24d7-bac3-4218-f773-470aa2d716b1"
      },
      "id": "et4yuI-c9iHt",
      "execution_count": 3,
      "outputs": [
        {
          "output_type": "execute_result",
          "data": {
            "text/plain": [
              "sqrt(2)"
            ],
            "text/latex": "$\\displaystyle \\sqrt{2}$"
          },
          "metadata": {},
          "execution_count": 3
        }
      ]
    },
    {
      "cell_type": "code",
      "source": [
        "type(math.sqrt(2))"
      ],
      "metadata": {
        "colab": {
          "base_uri": "https://localhost:8080/"
        },
        "id": "43oMvKem-4-2",
        "outputId": "5aa23225-b531-4caf-fafc-6b54b253127a"
      },
      "id": "43oMvKem-4-2",
      "execution_count": 4,
      "outputs": [
        {
          "output_type": "execute_result",
          "data": {
            "text/plain": [
              "float"
            ]
          },
          "metadata": {},
          "execution_count": 4
        }
      ]
    },
    {
      "cell_type": "code",
      "source": [
        "type(sqrt(2))"
      ],
      "metadata": {
        "colab": {
          "base_uri": "https://localhost:8080/"
        },
        "id": "PRVNR_Pr-9ng",
        "outputId": "ae2fe4cf-275a-472c-9baf-465beca41d26"
      },
      "id": "PRVNR_Pr-9ng",
      "execution_count": 5,
      "outputs": [
        {
          "output_type": "execute_result",
          "data": {
            "text/plain": [
              "sympy.core.power.Pow"
            ]
          },
          "metadata": {},
          "execution_count": 5
        }
      ]
    },
    {
      "cell_type": "markdown",
      "id": "25e4e0b8",
      "metadata": {
        "id": "25e4e0b8"
      },
      "source": [
        "By squaring these two, we see the difference between a floating point representation and a representation as an exact value."
      ]
    },
    {
      "cell_type": "code",
      "source": [
        "math.sqrt(2)**2"
      ],
      "metadata": {
        "colab": {
          "base_uri": "https://localhost:8080/"
        },
        "id": "7U7OVG_29jnC",
        "outputId": "245e26a6-3224-4c9c-f67a-e73788b3f54c"
      },
      "id": "7U7OVG_29jnC",
      "execution_count": 6,
      "outputs": [
        {
          "output_type": "execute_result",
          "data": {
            "text/plain": [
              "2.0000000000000004"
            ]
          },
          "metadata": {},
          "execution_count": 6
        }
      ]
    },
    {
      "cell_type": "code",
      "source": [
        "sqrt(2)**2"
      ],
      "metadata": {
        "colab": {
          "base_uri": "https://localhost:8080/",
          "height": 58
        },
        "id": "VvFzOTvo9jqZ",
        "outputId": "f48b14fc-30cf-430c-93bd-7cf3d18992dc"
      },
      "id": "VvFzOTvo9jqZ",
      "execution_count": 7,
      "outputs": [
        {
          "output_type": "execute_result",
          "data": {
            "text/plain": [
              "2"
            ],
            "text/latex": "$\\displaystyle 2$"
          },
          "metadata": {},
          "execution_count": 7
        }
      ]
    },
    {
      "cell_type": "markdown",
      "id": "9a31dc68",
      "metadata": {
        "id": "9a31dc68"
      },
      "source": [
        "Let's look at two further examples of roots in `SymPy`:"
      ]
    },
    {
      "cell_type": "code",
      "source": [
        "sqrt(9)"
      ],
      "metadata": {
        "colab": {
          "base_uri": "https://localhost:8080/",
          "height": 58
        },
        "id": "qXjJHWTI9nRf",
        "outputId": "4c853678-da4e-4a63-850a-6f3e2dc7e57a"
      },
      "id": "qXjJHWTI9nRf",
      "execution_count": 8,
      "outputs": [
        {
          "output_type": "execute_result",
          "data": {
            "text/plain": [
              "3"
            ],
            "text/latex": "$\\displaystyle 3$"
          },
          "metadata": {},
          "execution_count": 8
        }
      ]
    },
    {
      "cell_type": "code",
      "source": [
        "sqrt(8)"
      ],
      "metadata": {
        "colab": {
          "base_uri": "https://localhost:8080/",
          "height": 59
        },
        "id": "9uaHwklH9nVV",
        "outputId": "39536f0f-bdd0-42d7-ffc8-b5eac9717da3"
      },
      "id": "9uaHwklH9nVV",
      "execution_count": 9,
      "outputs": [
        {
          "output_type": "execute_result",
          "data": {
            "text/plain": [
              "2*sqrt(2)"
            ],
            "text/latex": "$\\displaystyle 2 \\sqrt{2}$"
          },
          "metadata": {},
          "execution_count": 9
        }
      ]
    },
    {
      "cell_type": "markdown",
      "id": "fe19d9ec",
      "metadata": {
        "id": "fe19d9ec"
      },
      "source": [
        "The `SymPy` method `evalf()` (or equivalently the function `sympy.N()`) forces to compute the value as a floating point number:"
      ]
    },
    {
      "cell_type": "code",
      "source": [
        "sqrt(8).evalf()"
      ],
      "metadata": {
        "colab": {
          "base_uri": "https://localhost:8080/",
          "height": 58
        },
        "id": "FW_1mWga9pLt",
        "outputId": "44ee7a13-e0df-427c-c97b-31828db1a4a9"
      },
      "id": "FW_1mWga9pLt",
      "execution_count": 10,
      "outputs": [
        {
          "output_type": "execute_result",
          "data": {
            "text/plain": [
              "2.82842712474619"
            ],
            "text/latex": "$\\displaystyle 2.82842712474619$"
          },
          "metadata": {},
          "execution_count": 10
        }
      ]
    },
    {
      "cell_type": "code",
      "source": [
        "N(sqrt(8))"
      ],
      "metadata": {
        "colab": {
          "base_uri": "https://localhost:8080/",
          "height": 58
        },
        "id": "jmlOYGyp9pUi",
        "outputId": "51c9156b-7650-4566-d59f-d7b26fa72f28"
      },
      "id": "jmlOYGyp9pUi",
      "execution_count": 11,
      "outputs": [
        {
          "output_type": "execute_result",
          "data": {
            "text/plain": [
              "2.82842712474619"
            ],
            "text/latex": "$\\displaystyle 2.82842712474619$"
          },
          "metadata": {},
          "execution_count": 11
        }
      ]
    },
    {
      "cell_type": "code",
      "source": [
        "round(N(sqrt(8)),3) # round the answer to 3 decimal digits"
      ],
      "metadata": {
        "colab": {
          "base_uri": "https://localhost:8080/",
          "height": 58
        },
        "id": "Ye0qPwHr_yYc",
        "outputId": "d9afca9f-922c-4354-bbbc-40c050264a69"
      },
      "id": "Ye0qPwHr_yYc",
      "execution_count": 12,
      "outputs": [
        {
          "output_type": "execute_result",
          "data": {
            "text/plain": [
              "2.828"
            ],
            "text/latex": "$\\displaystyle 2.828$"
          },
          "metadata": {},
          "execution_count": 12
        }
      ]
    },
    {
      "cell_type": "markdown",
      "id": "2bb13ba6",
      "metadata": {
        "id": "2bb13ba6"
      },
      "source": [
        "If `floats` are passed as arguments to `SymPy`, then `SymPy` will do *numeric* calculations instead of symbolic calculations:"
      ]
    },
    {
      "cell_type": "code",
      "source": [
        "sqrt(8)"
      ],
      "metadata": {
        "colab": {
          "base_uri": "https://localhost:8080/",
          "height": 59
        },
        "id": "qnOyLUvB9uMN",
        "outputId": "c24687ec-7fae-447c-ec0f-081ececbbfbd"
      },
      "id": "qnOyLUvB9uMN",
      "execution_count": 13,
      "outputs": [
        {
          "output_type": "execute_result",
          "data": {
            "text/plain": [
              "2*sqrt(2)"
            ],
            "text/latex": "$\\displaystyle 2 \\sqrt{2}$"
          },
          "metadata": {},
          "execution_count": 13
        }
      ]
    },
    {
      "cell_type": "code",
      "source": [
        "sqrt(8.0)"
      ],
      "metadata": {
        "colab": {
          "base_uri": "https://localhost:8080/",
          "height": 58
        },
        "id": "-1K7rjcE9ubP",
        "outputId": "ab16f593-019c-4e25-8234-187f75827f15"
      },
      "id": "-1K7rjcE9ubP",
      "execution_count": 14,
      "outputs": [
        {
          "output_type": "execute_result",
          "data": {
            "text/plain": [
              "2.82842712474619"
            ],
            "text/latex": "$\\displaystyle 2.82842712474619$"
          },
          "metadata": {},
          "execution_count": 14
        }
      ]
    },
    {
      "cell_type": "code",
      "source": [
        "sqrt(8/2)"
      ],
      "metadata": {
        "colab": {
          "base_uri": "https://localhost:8080/",
          "height": 58
        },
        "id": "pSa_bp1CAOU8",
        "outputId": "0eb9ca94-7525-47e1-9320-69cac653087a"
      },
      "id": "pSa_bp1CAOU8",
      "execution_count": 15,
      "outputs": [
        {
          "output_type": "execute_result",
          "data": {
            "text/plain": [
              "2.00000000000000"
            ],
            "text/latex": "$\\displaystyle 2.0$"
          },
          "metadata": {},
          "execution_count": 15
        }
      ]
    },
    {
      "cell_type": "code",
      "source": [
        "type(8/2)"
      ],
      "metadata": {
        "colab": {
          "base_uri": "https://localhost:8080/"
        },
        "id": "GRjSir_eAfRu",
        "outputId": "973e64e5-2da9-4712-e560-ae1d1c72dd4a"
      },
      "id": "GRjSir_eAfRu",
      "execution_count": 16,
      "outputs": [
        {
          "output_type": "execute_result",
          "data": {
            "text/plain": [
              "float"
            ]
          },
          "metadata": {},
          "execution_count": 16
        }
      ]
    },
    {
      "cell_type": "code",
      "source": [
        "type(sqrt(8/2))"
      ],
      "metadata": {
        "colab": {
          "base_uri": "https://localhost:8080/"
        },
        "id": "ST7Gaul9AbRe",
        "outputId": "49ebaa76-5a97-4011-f2cf-d804836ef7c6"
      },
      "id": "ST7Gaul9AbRe",
      "execution_count": 17,
      "outputs": [
        {
          "output_type": "execute_result",
          "data": {
            "text/plain": [
              "sympy.core.numbers.Float"
            ]
          },
          "metadata": {},
          "execution_count": 17
        }
      ]
    },
    {
      "cell_type": "markdown",
      "id": "17aec87e",
      "metadata": {
        "id": "17aec87e"
      },
      "source": [
        "The function `SymPy.sympify()` can help to get over this problem. (In the next cell, note that applying the `sympify()` function to $8$ makes a `SymPy` number out of $8$. Dividing this by $2$ does not change this."
      ]
    },
    {
      "cell_type": "code",
      "source": [
        "sqrt(sympify(8)/2)"
      ],
      "metadata": {
        "colab": {
          "base_uri": "https://localhost:8080/",
          "height": 58
        },
        "id": "L8HziPrU9xX_",
        "outputId": "c73eae8b-8bf9-4e03-b36e-6fb6cd40e6e6"
      },
      "id": "L8HziPrU9xX_",
      "execution_count": 18,
      "outputs": [
        {
          "output_type": "execute_result",
          "data": {
            "text/plain": [
              "2"
            ],
            "text/latex": "$\\displaystyle 2$"
          },
          "metadata": {},
          "execution_count": 18
        }
      ]
    },
    {
      "cell_type": "markdown",
      "source": [
        "Equivalently to `sympify` we can use the SymPy function `S`:"
      ],
      "metadata": {
        "id": "RKo1cWTbA5FO"
      },
      "id": "RKo1cWTbA5FO"
    },
    {
      "cell_type": "code",
      "source": [
        "sqrt(S(8)/2)"
      ],
      "metadata": {
        "colab": {
          "base_uri": "https://localhost:8080/",
          "height": 58
        },
        "id": "Pp5BRxVN9xkb",
        "outputId": "2d6bfcdf-0f12-44d7-81c1-9de8c171deba"
      },
      "id": "Pp5BRxVN9xkb",
      "execution_count": 19,
      "outputs": [
        {
          "output_type": "execute_result",
          "data": {
            "text/plain": [
              "2"
            ],
            "text/latex": "$\\displaystyle 2$"
          },
          "metadata": {},
          "execution_count": 19
        }
      ]
    },
    {
      "cell_type": "code",
      "source": [
        "sqrt(S(8/2))"
      ],
      "metadata": {
        "colab": {
          "base_uri": "https://localhost:8080/",
          "height": 58
        },
        "id": "AHf1LOQNBSm2",
        "outputId": "51a07b48-4861-4816-fb9a-1067cc6626d6"
      },
      "id": "AHf1LOQNBSm2",
      "execution_count": 20,
      "outputs": [
        {
          "output_type": "execute_result",
          "data": {
            "text/plain": [
              "2.00000000000000"
            ],
            "text/latex": "$\\displaystyle 2.0$"
          },
          "metadata": {},
          "execution_count": 20
        }
      ]
    },
    {
      "cell_type": "markdown",
      "id": "780934d4",
      "metadata": {
        "id": "780934d4"
      },
      "source": [
        "## 1.2: Symbols in SymPy"
      ]
    },
    {
      "cell_type": "markdown",
      "id": "6152fc6c",
      "metadata": {
        "id": "6152fc6c"
      },
      "source": [
        "`SymPy` allows us to define *symbols*. These are treated as variables."
      ]
    },
    {
      "cell_type": "code",
      "source": [
        "x = symbols('x')\n",
        "x"
      ],
      "metadata": {
        "colab": {
          "base_uri": "https://localhost:8080/",
          "height": 60
        },
        "id": "bjZGB6ea90SH",
        "outputId": "88526a3c-eb4a-4b0b-aad9-fb092535d88a"
      },
      "id": "bjZGB6ea90SH",
      "execution_count": 21,
      "outputs": [
        {
          "output_type": "execute_result",
          "data": {
            "text/plain": [
              "x"
            ],
            "text/latex": "$\\displaystyle x$"
          },
          "metadata": {},
          "execution_count": 21
        }
      ]
    },
    {
      "cell_type": "code",
      "source": [
        "# Does not make any sense, but in principle I can\n",
        "# request SymPy to print y whenever it displays my\n",
        "# symbol\n",
        "x = symbols('y')\n",
        "x"
      ],
      "metadata": {
        "colab": {
          "base_uri": "https://localhost:8080/",
          "height": 60
        },
        "id": "CkJpQPJLB1eR",
        "outputId": "71e65ed8-414d-46ba-fc1b-89953395dd48"
      },
      "id": "CkJpQPJLB1eR",
      "execution_count": 22,
      "outputs": [
        {
          "output_type": "execute_result",
          "data": {
            "text/plain": [
              "y"
            ],
            "text/latex": "$\\displaystyle y$"
          },
          "metadata": {},
          "execution_count": 22
        }
      ]
    },
    {
      "cell_type": "code",
      "source": [
        "x = symbols('x')"
      ],
      "metadata": {
        "id": "ZkOe6PDZCdpq"
      },
      "id": "ZkOe6PDZCdpq",
      "execution_count": 23,
      "outputs": []
    },
    {
      "cell_type": "code",
      "source": [
        "x,y = symbols('x,y')\n",
        "x"
      ],
      "metadata": {
        "colab": {
          "base_uri": "https://localhost:8080/",
          "height": 60
        },
        "id": "eu9Pxi2gCgQ2",
        "outputId": "96d0a8dd-b3d0-423c-d733-9c6993d6112f"
      },
      "id": "eu9Pxi2gCgQ2",
      "execution_count": 24,
      "outputs": [
        {
          "output_type": "execute_result",
          "data": {
            "text/plain": [
              "x"
            ],
            "text/latex": "$\\displaystyle x$"
          },
          "metadata": {},
          "execution_count": 24
        }
      ]
    },
    {
      "cell_type": "code",
      "source": [
        "y"
      ],
      "metadata": {
        "colab": {
          "base_uri": "https://localhost:8080/",
          "height": 60
        },
        "id": "7Oppv1_6CkI2",
        "outputId": "d4120023-36da-4332-f270-68db4a02fe79"
      },
      "id": "7Oppv1_6CkI2",
      "execution_count": 25,
      "outputs": [
        {
          "output_type": "execute_result",
          "data": {
            "text/plain": [
              "y"
            ],
            "text/latex": "$\\displaystyle y$"
          },
          "metadata": {},
          "execution_count": 25
        }
      ]
    },
    {
      "cell_type": "markdown",
      "id": "f491434f",
      "metadata": {
        "id": "f491434f"
      },
      "source": [
        "Symblos allow us to define more complex expressions."
      ]
    },
    {
      "cell_type": "code",
      "source": [
        "p = x**2 + 3*x + 7\n",
        "p"
      ],
      "metadata": {
        "colab": {
          "base_uri": "https://localhost:8080/",
          "height": 60
        },
        "id": "buzKsmvw91SS",
        "outputId": "03068f74-ac39-48e5-8e37-da7531aab579"
      },
      "id": "buzKsmvw91SS",
      "execution_count": 26,
      "outputs": [
        {
          "output_type": "execute_result",
          "data": {
            "text/plain": [
              "x**2 + 3*x + 7"
            ],
            "text/latex": "$\\displaystyle x^{2} + 3 x + 7$"
          },
          "metadata": {},
          "execution_count": 26
        }
      ]
    },
    {
      "cell_type": "markdown",
      "id": "cb790738",
      "metadata": {
        "id": "cb790738"
      },
      "source": [
        "We can do computations with symbols:"
      ]
    },
    {
      "cell_type": "code",
      "source": [
        "p * (x+2)"
      ],
      "metadata": {
        "colab": {
          "base_uri": "https://localhost:8080/",
          "height": 60
        },
        "id": "UZAS2xRC92nF",
        "outputId": "7e702dea-6e25-46f3-af9f-fd5abe6fe00e"
      },
      "id": "UZAS2xRC92nF",
      "execution_count": 27,
      "outputs": [
        {
          "output_type": "execute_result",
          "data": {
            "text/plain": [
              "(x + 2)*(x**2 + 3*x + 7)"
            ],
            "text/latex": "$\\displaystyle \\left(x + 2\\right) \\left(x^{2} + 3 x + 7\\right)$"
          },
          "metadata": {},
          "execution_count": 27
        }
      ]
    },
    {
      "cell_type": "markdown",
      "id": "a59ee6d1",
      "metadata": {
        "id": "a59ee6d1"
      },
      "source": [
        "The methods `expand()` and `simplify()` ask `SymPy` to perform multiplications respectively to simplify expressions:"
      ]
    },
    {
      "cell_type": "code",
      "source": [
        "(p*(x+2)).expand()"
      ],
      "metadata": {
        "colab": {
          "base_uri": "https://localhost:8080/",
          "height": 60
        },
        "id": "Y7BazQ-M93rS",
        "outputId": "8b28d3ad-575c-43cb-ac49-5ab843711329"
      },
      "id": "Y7BazQ-M93rS",
      "execution_count": 28,
      "outputs": [
        {
          "output_type": "execute_result",
          "data": {
            "text/plain": [
              "x**3 + 5*x**2 + 13*x + 14"
            ],
            "text/latex": "$\\displaystyle x^{3} + 5 x^{2} + 13 x + 14$"
          },
          "metadata": {},
          "execution_count": 28
        }
      ]
    },
    {
      "cell_type": "code",
      "source": [
        "(x**2-1)/(x+1)"
      ],
      "metadata": {
        "colab": {
          "base_uri": "https://localhost:8080/",
          "height": 76
        },
        "id": "UtYdEVAmDS6M",
        "outputId": "4749d05b-614b-4c7d-e804-f48b8d282998"
      },
      "id": "UtYdEVAmDS6M",
      "execution_count": 29,
      "outputs": [
        {
          "output_type": "execute_result",
          "data": {
            "text/plain": [
              "(x**2 - 1)/(x + 1)"
            ],
            "text/latex": "$\\displaystyle \\frac{x^{2} - 1}{x + 1}$"
          },
          "metadata": {},
          "execution_count": 29
        }
      ]
    },
    {
      "cell_type": "code",
      "source": [
        "((x**2-1)/(x+1)).simplify()"
      ],
      "metadata": {
        "colab": {
          "base_uri": "https://localhost:8080/",
          "height": 60
        },
        "id": "ClarGrnSDhJU",
        "outputId": "8e641bcc-af1e-4011-d80b-177c9be46ce3"
      },
      "id": "ClarGrnSDhJU",
      "execution_count": 30,
      "outputs": [
        {
          "output_type": "execute_result",
          "data": {
            "text/plain": [
              "x - 1"
            ],
            "text/latex": "$\\displaystyle x - 1$"
          },
          "metadata": {},
          "execution_count": 30
        }
      ]
    },
    {
      "cell_type": "markdown",
      "id": "23efa417",
      "metadata": {
        "id": "23efa417"
      },
      "source": [
        "# 2) Algebraic equations in SymPy"
      ]
    },
    {
      "cell_type": "markdown",
      "id": "5b8127cb",
      "metadata": {
        "id": "5b8127cb"
      },
      "source": [
        "Using `solve()` we can determine zeros of algebraic equations."
      ]
    },
    {
      "cell_type": "markdown",
      "source": [
        "Let's try to solve the equation $$z^3 = -\\sqrt{3} + \\mathrm{i}$$\n",
        "which we just solved manually."
      ],
      "metadata": {
        "id": "8NO_lSuuEPQc"
      },
      "id": "8NO_lSuuEPQc"
    },
    {
      "cell_type": "markdown",
      "source": [
        "To do so, we define a symbolic expression\n",
        "$$z^3 - (-\\sqrt{3} + \\mathrm{i})$$\n",
        "and then find zeros of this expression."
      ],
      "metadata": {
        "id": "ELVg8XzsEb_z"
      },
      "id": "ELVg8XzsEb_z"
    },
    {
      "cell_type": "code",
      "source": [
        "z = symbols('z')"
      ],
      "metadata": {
        "id": "G8nGMUrS-B6j"
      },
      "id": "G8nGMUrS-B6j",
      "execution_count": 31,
      "outputs": []
    },
    {
      "cell_type": "code",
      "source": [
        "p = z**3 - (-sqrt(3)+I)\n",
        "p"
      ],
      "metadata": {
        "colab": {
          "base_uri": "https://localhost:8080/",
          "height": 60
        },
        "id": "TQrhRG-I-CIe",
        "outputId": "ddf77160-300f-4904-89ef-960d43dd8a1a"
      },
      "id": "TQrhRG-I-CIe",
      "execution_count": 32,
      "outputs": [
        {
          "output_type": "execute_result",
          "data": {
            "text/plain": [
              "z**3 + sqrt(3) - I"
            ],
            "text/latex": "$\\displaystyle z^{3} + \\sqrt{3} - i$"
          },
          "metadata": {},
          "execution_count": 32
        }
      ]
    },
    {
      "cell_type": "code",
      "source": [
        "solve(p)"
      ],
      "metadata": {
        "colab": {
          "base_uri": "https://localhost:8080/"
        },
        "id": "2H5JBJXz-CU_",
        "outputId": "0b03540a-dbbe-44ad-e5ae-10ed8b97e2ea"
      },
      "id": "2H5JBJXz-CU_",
      "execution_count": 33,
      "outputs": [
        {
          "output_type": "execute_result",
          "data": {
            "text/plain": [
              "[2**(1/3)*cos(5*pi/18) + 2**(1/3)*I*sin(5*pi/18),\n",
              " -2**(1/3)*cos(5*pi/18)/2 + 2**(1/3)*sqrt(3)*sin(5*pi/18)/2 - 2**(1/3)*sqrt(3)*I*cos(5*pi/18)/2 - 2**(1/3)*I*sin(5*pi/18)/2,\n",
              " -2**(1/3)*sqrt(3)*sin(5*pi/18)/2 - 2**(1/3)*cos(5*pi/18)/2 - 2**(1/3)*I*sin(5*pi/18)/2 + 2**(1/3)*sqrt(3)*I*cos(5*pi/18)/2]"
            ]
          },
          "metadata": {},
          "execution_count": 33
        }
      ]
    },
    {
      "cell_type": "code",
      "source": [
        "solve(p)[0]"
      ],
      "metadata": {
        "colab": {
          "base_uri": "https://localhost:8080/",
          "height": 79
        },
        "id": "uvm_t9VhFv_j",
        "outputId": "67ed1423-22f2-46a3-f7c7-5c802752884f"
      },
      "id": "uvm_t9VhFv_j",
      "execution_count": 34,
      "outputs": [
        {
          "output_type": "execute_result",
          "data": {
            "text/plain": [
              "2**(1/3)*cos(5*pi/18) + 2**(1/3)*I*sin(5*pi/18)"
            ],
            "text/latex": "$\\displaystyle \\sqrt[3]{2} \\cos{\\left(\\frac{5 \\pi}{18} \\right)} + \\sqrt[3]{2} i \\sin{\\left(\\frac{5 \\pi}{18} \\right)}$"
          },
          "metadata": {},
          "execution_count": 34
        }
      ]
    },
    {
      "cell_type": "code",
      "source": [
        "solve(p)[1]"
      ],
      "metadata": {
        "colab": {
          "base_uri": "https://localhost:8080/",
          "height": 77
        },
        "id": "M-bmrJr4F87U",
        "outputId": "c3eacc41-53e5-41ab-8fe3-2a94939c07ad"
      },
      "id": "M-bmrJr4F87U",
      "execution_count": 35,
      "outputs": [
        {
          "output_type": "execute_result",
          "data": {
            "text/plain": [
              "-2**(1/3)*cos(5*pi/18)/2 + 2**(1/3)*sqrt(3)*sin(5*pi/18)/2 - 2**(1/3)*sqrt(3)*I*cos(5*pi/18)/2 - 2**(1/3)*I*sin(5*pi/18)/2"
            ],
            "text/latex": "$\\displaystyle - \\frac{\\sqrt[3]{2} \\cos{\\left(\\frac{5 \\pi}{18} \\right)}}{2} + \\frac{\\sqrt[3]{2} \\sqrt{3} \\sin{\\left(\\frac{5 \\pi}{18} \\right)}}{2} - \\frac{\\sqrt[3]{2} \\sqrt{3} i \\cos{\\left(\\frac{5 \\pi}{18} \\right)}}{2} - \\frac{\\sqrt[3]{2} i \\sin{\\left(\\frac{5 \\pi}{18} \\right)}}{2}$"
          },
          "metadata": {},
          "execution_count": 35
        }
      ]
    },
    {
      "cell_type": "code",
      "source": [
        "arg(solve(p)[1])"
      ],
      "metadata": {
        "colab": {
          "base_uri": "https://localhost:8080/",
          "height": 88
        },
        "id": "5B0hrDXbGJHa",
        "outputId": "7b02cd3f-9cf5-4ff5-f083-eb5180704351"
      },
      "id": "5B0hrDXbGJHa",
      "execution_count": 36,
      "outputs": [
        {
          "output_type": "execute_result",
          "data": {
            "text/plain": [
              "atan((-sqrt(3)*cos(5*pi/18) - sin(5*pi/18))/(-cos(5*pi/18) + sqrt(3)*sin(5*pi/18)))"
            ],
            "text/latex": "$\\displaystyle \\operatorname{atan}{\\left(\\frac{- \\sqrt{3} \\cos{\\left(\\frac{5 \\pi}{18} \\right)} - \\sin{\\left(\\frac{5 \\pi}{18} \\right)}}{- \\cos{\\left(\\frac{5 \\pi}{18} \\right)} + \\sqrt{3} \\sin{\\left(\\frac{5 \\pi}{18} \\right)}} \\right)}$"
          },
          "metadata": {},
          "execution_count": 36
        }
      ]
    },
    {
      "cell_type": "code",
      "source": [
        "arg(solve(p)[1]).evalf()"
      ],
      "metadata": {
        "colab": {
          "base_uri": "https://localhost:8080/",
          "height": 58
        },
        "id": "J0bl9zuAGPjB",
        "outputId": "6a06c506-8b9a-4496-a0c0-148b1c3ec61b"
      },
      "id": "J0bl9zuAGPjB",
      "execution_count": 37,
      "outputs": [
        {
          "output_type": "execute_result",
          "data": {
            "text/plain": [
              "-1.22173047639603"
            ],
            "text/latex": "$\\displaystyle -1.22173047639603$"
          },
          "metadata": {},
          "execution_count": 37
        }
      ]
    },
    {
      "cell_type": "code",
      "source": [
        "solve(p)[2]"
      ],
      "metadata": {
        "colab": {
          "base_uri": "https://localhost:8080/",
          "height": 77
        },
        "id": "JUuGUYRdGADM",
        "outputId": "4be9f80f-5a94-4e76-e6de-6b52d27d437f"
      },
      "id": "JUuGUYRdGADM",
      "execution_count": 38,
      "outputs": [
        {
          "output_type": "execute_result",
          "data": {
            "text/plain": [
              "-2**(1/3)*sqrt(3)*sin(5*pi/18)/2 - 2**(1/3)*cos(5*pi/18)/2 - 2**(1/3)*I*sin(5*pi/18)/2 + 2**(1/3)*sqrt(3)*I*cos(5*pi/18)/2"
            ],
            "text/latex": "$\\displaystyle - \\frac{\\sqrt[3]{2} \\sqrt{3} \\sin{\\left(\\frac{5 \\pi}{18} \\right)}}{2} - \\frac{\\sqrt[3]{2} \\cos{\\left(\\frac{5 \\pi}{18} \\right)}}{2} - \\frac{\\sqrt[3]{2} i \\sin{\\left(\\frac{5 \\pi}{18} \\right)}}{2} + \\frac{\\sqrt[3]{2} \\sqrt{3} i \\cos{\\left(\\frac{5 \\pi}{18} \\right)}}{2}$"
          },
          "metadata": {},
          "execution_count": 38
        }
      ]
    },
    {
      "cell_type": "markdown",
      "id": "5d454fcd",
      "metadata": {
        "id": "5d454fcd"
      },
      "source": [
        "It is also possible to factor polynomials in linear factors:"
      ]
    },
    {
      "cell_type": "code",
      "source": [
        "p = z**3 - 3*z**2 + 4*z -2\n",
        "p"
      ],
      "metadata": {
        "colab": {
          "base_uri": "https://localhost:8080/",
          "height": 60
        },
        "id": "dwSpwvPK-Edz",
        "outputId": "3399dcc8-6f78-4e68-bb7e-e8c79cfee956"
      },
      "id": "dwSpwvPK-Edz",
      "execution_count": 39,
      "outputs": [
        {
          "output_type": "execute_result",
          "data": {
            "text/plain": [
              "z**3 - 3*z**2 + 4*z - 2"
            ],
            "text/latex": "$\\displaystyle z^{3} - 3 z^{2} + 4 z - 2$"
          },
          "metadata": {},
          "execution_count": 39
        }
      ]
    },
    {
      "cell_type": "code",
      "source": [
        "(p/(z-1)).simplify()"
      ],
      "metadata": {
        "colab": {
          "base_uri": "https://localhost:8080/",
          "height": 60
        },
        "id": "xUG_df5f-Erw",
        "outputId": "c13e2043-697a-4caf-ac2c-b100dc61c85a"
      },
      "id": "xUG_df5f-Erw",
      "execution_count": 40,
      "outputs": [
        {
          "output_type": "execute_result",
          "data": {
            "text/plain": [
              "z**2 - 2*z + 2"
            ],
            "text/latex": "$\\displaystyle z^{2} - 2 z + 2$"
          },
          "metadata": {},
          "execution_count": 40
        }
      ]
    },
    {
      "cell_type": "code",
      "source": [
        "p"
      ],
      "metadata": {
        "colab": {
          "base_uri": "https://localhost:8080/",
          "height": 60
        },
        "id": "XPByb69uLGGZ",
        "outputId": "5115f785-e39b-4d97-8683-bfa2711ccc7f"
      },
      "id": "XPByb69uLGGZ",
      "execution_count": 41,
      "outputs": [
        {
          "output_type": "execute_result",
          "data": {
            "text/plain": [
              "z**3 - 3*z**2 + 4*z - 2"
            ],
            "text/latex": "$\\displaystyle z^{3} - 3 z^{2} + 4 z - 2$"
          },
          "metadata": {},
          "execution_count": 41
        }
      ]
    },
    {
      "cell_type": "code",
      "source": [
        "solve(p)"
      ],
      "metadata": {
        "colab": {
          "base_uri": "https://localhost:8080/"
        },
        "id": "PX2XaaxzLIhk",
        "outputId": "761a4b23-8d7f-4c9c-e0ae-e96d2e7b0fdc"
      },
      "id": "PX2XaaxzLIhk",
      "execution_count": 42,
      "outputs": [
        {
          "output_type": "execute_result",
          "data": {
            "text/plain": [
              "[1, 1 - I, 1 + I]"
            ]
          },
          "metadata": {},
          "execution_count": 42
        }
      ]
    },
    {
      "cell_type": "code",
      "source": [
        "factor(p)"
      ],
      "metadata": {
        "colab": {
          "base_uri": "https://localhost:8080/",
          "height": 60
        },
        "id": "yeA4P5_NLR5i",
        "outputId": "a627a6f0-ea09-4048-ccae-62c68b4674e1"
      },
      "id": "yeA4P5_NLR5i",
      "execution_count": 43,
      "outputs": [
        {
          "output_type": "execute_result",
          "data": {
            "text/plain": [
              "(z - 1)*(z**2 - 2*z + 2)"
            ],
            "text/latex": "$\\displaystyle \\left(z - 1\\right) \\left(z^{2} - 2 z + 2\\right)$"
          },
          "metadata": {},
          "execution_count": 43
        }
      ]
    },
    {
      "cell_type": "code",
      "source": [
        "factor(p,extension = roots(p))"
      ],
      "metadata": {
        "colab": {
          "base_uri": "https://localhost:8080/",
          "height": 60
        },
        "id": "QemkqC0yLYkO",
        "outputId": "4cbd3bde-8a16-44fd-91ab-28c109ec6094"
      },
      "id": "QemkqC0yLYkO",
      "execution_count": 44,
      "outputs": [
        {
          "output_type": "execute_result",
          "data": {
            "text/plain": [
              "(z - 1)*(z - 1 - I)*(z - 1 + I)"
            ],
            "text/latex": "$\\displaystyle \\left(z - 1\\right) \\left(z - 1 - i\\right) \\left(z - 1 + i\\right)$"
          },
          "metadata": {},
          "execution_count": 44
        }
      ]
    },
    {
      "cell_type": "markdown",
      "id": "d2b9d33a",
      "metadata": {
        "id": "d2b9d33a"
      },
      "source": [
        "Here, the option `extension = sympy.roots(p)` means that in addition to rational numbers we admit coefficients which can be computed out of the zeros of the polynomial itself."
      ]
    }
  ],
  "metadata": {
    "kernelspec": {
      "display_name": "Python 3",
      "name": "python3"
    },
    "language_info": {
      "name": "python"
    },
    "colab": {
      "provenance": [],
      "include_colab_link": true
    }
  },
  "nbformat": 4,
  "nbformat_minor": 5
}