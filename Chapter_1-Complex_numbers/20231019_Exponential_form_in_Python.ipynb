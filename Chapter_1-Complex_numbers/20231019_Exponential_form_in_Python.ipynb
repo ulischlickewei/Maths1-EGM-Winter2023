{
  "nbformat": 4,
  "nbformat_minor": 0,
  "metadata": {
    "colab": {
      "provenance": [],
      "authorship_tag": "ABX9TyO4PsDYkk1rdqozLJOMONZV",
      "include_colab_link": true
    },
    "kernelspec": {
      "name": "python3",
      "display_name": "Python 3"
    },
    "language_info": {
      "name": "python"
    }
  },
  "cells": [
    {
      "cell_type": "markdown",
      "metadata": {
        "id": "view-in-github",
        "colab_type": "text"
      },
      "source": [
        "<a href=\"https://colab.research.google.com/github/ulischlickewei/DSML_FW/blob/main/Chapter_1-Complex_numbers/20231019_Exponential_form_in_Python.ipynb\" target=\"_parent\"><img src=\"https://colab.research.google.com/assets/colab-badge.svg\" alt=\"Open In Colab\"/></a>"
      ]
    },
    {
      "cell_type": "markdown",
      "source": [
        "### General comment on using SymPy\n",
        "\n",
        "In the last lecture we imported the SymPy module under the alias `sy` using the command:\n",
        "\n",
        "``` import sympy as sy ```\n",
        "\n",
        "In this way we could access all tools provided by the SymPy module. However, we always had to specify the SymPy namespace when calling a SymPy command. For example, to define a complex number $z = 1+3\\mathrm{i}$ we used:\n",
        "\n",
        "```z = 1 + 3*sy.I```\n",
        "\n",
        "While it might seem cumbersome to call the SymPy namespace each time we want to use a SymPy command, this is very helpful to avoid confusions between different packages.\n",
        "\n",
        "Since we are going to use SymPy a lot in this class and we are not going to use many other modules, we are going to use a different method to import the module:\n",
        "\n",
        "```from sympy import *```\n",
        "\n",
        "This leads to having all SymPy commands accessible in the general namespace without any specific reference to SymPy.\n"
      ],
      "metadata": {
        "id": "zRY1U1xFQ3_v"
      }
    },
    {
      "cell_type": "code",
      "source": [
        "from sympy import *"
      ],
      "metadata": {
        "id": "kdskI9bGYu2s"
      },
      "execution_count": null,
      "outputs": []
    },
    {
      "cell_type": "code",
      "source": [
        "z = 1+I\n",
        "z"
      ],
      "metadata": {
        "colab": {
          "base_uri": "https://localhost:8080/",
          "height": 38
        },
        "id": "0ztpzHAeY5Zq",
        "outputId": "29793ce9-6e20-406c-db1d-7c382b1f5bee"
      },
      "execution_count": null,
      "outputs": [
        {
          "output_type": "execute_result",
          "data": {
            "text/plain": [
              "1 + I"
            ],
            "text/latex": "$\\displaystyle 1 + i$"
          },
          "metadata": {},
          "execution_count": 3
        }
      ]
    },
    {
      "cell_type": "code",
      "source": [
        "exp(2)"
      ],
      "metadata": {
        "colab": {
          "base_uri": "https://localhost:8080/",
          "height": 38
        },
        "id": "bY_qzR8wZB99",
        "outputId": "075fad53-3f01-4fb5-e86d-243ae206a4fc"
      },
      "execution_count": null,
      "outputs": [
        {
          "output_type": "execute_result",
          "data": {
            "text/plain": [
              "exp(2)"
            ],
            "text/latex": "$\\displaystyle e^{2}$"
          },
          "metadata": {},
          "execution_count": 4
        }
      ]
    },
    {
      "cell_type": "markdown",
      "source": [
        "In general, outside the context of this class, I would not recommended to use this method for importing modules as it can lead to confusion between commands with the same name from different modules. Just to give one example, the modules `math`, `sympy`, `numpy` and `scipy` all have a `sin` command for the sine function. It is generally very important to know from which module the function is called."
      ],
      "metadata": {
        "id": "kiPhQtU0Td92"
      }
    },
    {
      "cell_type": "markdown",
      "source": [
        "### Example on page 29"
      ],
      "metadata": {
        "id": "RC8UmY46Yr7O"
      }
    },
    {
      "cell_type": "code",
      "source": [
        "z = exp(I*(-pi/3))\n",
        "z"
      ],
      "metadata": {
        "colab": {
          "base_uri": "https://localhost:8080/",
          "height": 40
        },
        "id": "CHVXtMKhZJwB",
        "outputId": "63757b24-2815-400b-97ac-4b49dd1d1004"
      },
      "execution_count": null,
      "outputs": [
        {
          "output_type": "execute_result",
          "data": {
            "text/plain": [
              "exp(-I*pi/3)"
            ],
            "text/latex": "$\\displaystyle e^{- \\frac{i \\pi}{3}}$"
          },
          "metadata": {},
          "execution_count": 9
        }
      ]
    },
    {
      "cell_type": "code",
      "source": [
        "re(z)"
      ],
      "metadata": {
        "colab": {
          "base_uri": "https://localhost:8080/",
          "height": 51
        },
        "id": "WZ67xHGNZ6Yr",
        "outputId": "a4f7e338-d3c5-4649-e5b6-7f2a230c7417"
      },
      "execution_count": null,
      "outputs": [
        {
          "output_type": "execute_result",
          "data": {
            "text/plain": [
              "1/2"
            ],
            "text/latex": "$\\displaystyle \\frac{1}{2}$"
          },
          "metadata": {},
          "execution_count": 18
        }
      ]
    },
    {
      "cell_type": "code",
      "source": [
        "im(z)"
      ],
      "metadata": {
        "colab": {
          "base_uri": "https://localhost:8080/",
          "height": 56
        },
        "id": "p3VE3tbYaFS4",
        "outputId": "eb5f39c2-562d-434d-de99-1045d423ace5"
      },
      "execution_count": null,
      "outputs": [
        {
          "output_type": "execute_result",
          "data": {
            "text/plain": [
              "-sqrt(3)/2"
            ],
            "text/latex": "$\\displaystyle - \\frac{\\sqrt{3}}{2}$"
          },
          "metadata": {},
          "execution_count": 19
        }
      ]
    },
    {
      "cell_type": "code",
      "source": [
        "sin(-pi/3)"
      ],
      "metadata": {
        "colab": {
          "base_uri": "https://localhost:8080/",
          "height": 56
        },
        "id": "yKtVMUjnZhdN",
        "outputId": "cc3a58e9-3954-4b8d-81b0-59fbaee32b36"
      },
      "execution_count": null,
      "outputs": [
        {
          "output_type": "execute_result",
          "data": {
            "text/plain": [
              "-sqrt(3)/2"
            ],
            "text/latex": "$\\displaystyle - \\frac{\\sqrt{3}}{2}$"
          },
          "metadata": {},
          "execution_count": 20
        }
      ]
    },
    {
      "cell_type": "code",
      "source": [
        "cos(-pi/3)"
      ],
      "metadata": {
        "colab": {
          "base_uri": "https://localhost:8080/",
          "height": 51
        },
        "id": "Rjq4TUGjZlNZ",
        "outputId": "6645fdf1-6932-48bb-ec17-8501d92a2757"
      },
      "execution_count": null,
      "outputs": [
        {
          "output_type": "execute_result",
          "data": {
            "text/plain": [
              "1/2"
            ],
            "text/latex": "$\\displaystyle \\frac{1}{2}$"
          },
          "metadata": {},
          "execution_count": 21
        }
      ]
    },
    {
      "cell_type": "code",
      "source": [],
      "metadata": {
        "id": "z3zvYtVVZ1xi"
      },
      "execution_count": null,
      "outputs": []
    }
  ]
}