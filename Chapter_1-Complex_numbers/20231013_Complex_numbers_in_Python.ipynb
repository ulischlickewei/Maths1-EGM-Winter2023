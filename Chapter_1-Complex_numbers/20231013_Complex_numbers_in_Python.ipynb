{
  "nbformat": 4,
  "nbformat_minor": 0,
  "metadata": {
    "colab": {
      "provenance": [],
      "authorship_tag": "ABX9TyOboubUTr7QAjv6oe5a7VP6",
      "include_colab_link": true
    },
    "kernelspec": {
      "name": "python3",
      "display_name": "Python 3"
    },
    "language_info": {
      "name": "python"
    }
  },
  "cells": [
    {
      "cell_type": "markdown",
      "metadata": {
        "id": "view-in-github",
        "colab_type": "text"
      },
      "source": [
        "<a href=\"https://colab.research.google.com/github/ulischlickewei/DSML_FW/blob/main/Chapter_1-Complex_numbers/20231013_Complex_numbers_in_Python.ipynb\" target=\"_parent\"><img src=\"https://colab.research.google.com/assets/colab-badge.svg\" alt=\"Open In Colab\"/></a>"
      ]
    },
    {
      "cell_type": "markdown",
      "source": [
        "### Introducing SymPy\n",
        "\n",
        "Remember that we can use Python as a calculator. Many of the functions that we need in this context are contained in the `math` module."
      ],
      "metadata": {
        "id": "lE_zkqJsTxsI"
      }
    },
    {
      "cell_type": "code",
      "execution_count": 2,
      "metadata": {
        "colab": {
          "base_uri": "https://localhost:8080/"
        },
        "id": "Akot1ei8BSvd",
        "outputId": "03c4d925-313b-47cf-9926-3c2b4d490977"
      },
      "outputs": [
        {
          "output_type": "execute_result",
          "data": {
            "text/plain": [
              "5"
            ]
          },
          "metadata": {},
          "execution_count": 2
        }
      ],
      "source": [
        "2+3"
      ]
    },
    {
      "cell_type": "code",
      "source": [
        "import math\n",
        "2 * math.sqrt(2)"
      ],
      "metadata": {
        "colab": {
          "base_uri": "https://localhost:8080/"
        },
        "id": "3O7LlPcYBqZB",
        "outputId": "4c9f5112-5ce3-4a31-81b0-9fc0f3b6e2ac"
      },
      "execution_count": 3,
      "outputs": [
        {
          "output_type": "execute_result",
          "data": {
            "text/plain": [
              "2.8284271247461903"
            ]
          },
          "metadata": {},
          "execution_count": 3
        }
      ]
    },
    {
      "cell_type": "markdown",
      "source": [
        "We now import the SymPy package. Our import statement introduces the \"alias\" `sy`which has the effect that we can from now on call all functions from SymPy by using this alias `sy`instead of the longer full name `sympy`"
      ],
      "metadata": {
        "id": "ieRtIT20Ce67"
      }
    },
    {
      "cell_type": "code",
      "source": [
        "import sympy as sy"
      ],
      "metadata": {
        "id": "S04ecXlIBxcH"
      },
      "execution_count": 4,
      "outputs": []
    },
    {
      "cell_type": "markdown",
      "source": [
        "SymPy contains many functions that we will need in this class.\n",
        "\n",
        "For example, all typical elementary functions such as exponential function, trigonometric functions etc are implemented in SymPy.\n",
        "\n",
        "Let's call for example the exponential function `sy.exp()`:"
      ],
      "metadata": {
        "id": "G_JCQrnqDm-n"
      }
    },
    {
      "cell_type": "code",
      "source": [
        "sy.exp(2)"
      ],
      "metadata": {
        "colab": {
          "base_uri": "https://localhost:8080/",
          "height": 60
        },
        "id": "aD_RxRscCddt",
        "outputId": "d198809e-e9d3-463f-8462-73f9d94c0a16"
      },
      "execution_count": 5,
      "outputs": [
        {
          "output_type": "execute_result",
          "data": {
            "text/plain": [
              "exp(2)"
            ],
            "text/latex": "$\\displaystyle e^{2}$"
          },
          "metadata": {},
          "execution_count": 5
        }
      ]
    },
    {
      "cell_type": "markdown",
      "source": [
        "The fundamental difference between `sympy` and `math` is the following: computations in `math` rely on floating point numbers. These are decimal numbers which have a limited (even though a very high) level of precision. In contrast `sympy` relies on so-called symbolic computations which are exact whenever possible."
      ],
      "metadata": {
        "id": "dYnoneNxUDCy"
      }
    },
    {
      "cell_type": "markdown",
      "source": [
        "SymPy allows us to do all sorts of arithmetic computations, e.g.:"
      ],
      "metadata": {
        "id": "2tMTRsUbD3ro"
      }
    },
    {
      "cell_type": "code",
      "source": [
        "sy.exp(2) * sy.exp(2)"
      ],
      "metadata": {
        "colab": {
          "base_uri": "https://localhost:8080/",
          "height": 60
        },
        "id": "az10XzXaDCGO",
        "outputId": "efdd80f9-e56f-4cff-8ffd-b5d1a3090a9b"
      },
      "execution_count": 6,
      "outputs": [
        {
          "output_type": "execute_result",
          "data": {
            "text/plain": [
              "exp(4)"
            ],
            "text/latex": "$\\displaystyle e^{4}$"
          },
          "metadata": {},
          "execution_count": 6
        }
      ]
    },
    {
      "cell_type": "markdown",
      "source": [
        "SymPy represents the result of $\\mathrm{e}^2 \\cdot \\mathrm{e}^2$ as the exact value $\\mathrm{e}^4$, there is no rounding to a finite decimal number taking place. In this sense, the result is exact.\n",
        "\n",
        "Sometimes, we are interested in obtaining the result as a decimal number, of course at the price of losing precision. This can be done using the `evalf()` method:"
      ],
      "metadata": {
        "id": "oCX07ajkUrEh"
      }
    },
    {
      "cell_type": "code",
      "source": [
        "(sy.exp(2) * sy.exp(2)).evalf()"
      ],
      "metadata": {
        "colab": {
          "base_uri": "https://localhost:8080/",
          "height": 58
        },
        "id": "B83D6IzzDNeK",
        "outputId": "b0ed6a78-fb3c-405c-8f0a-5d149fbb5d55"
      },
      "execution_count": 7,
      "outputs": [
        {
          "output_type": "execute_result",
          "data": {
            "text/plain": [
              "54.5981500331442"
            ],
            "text/latex": "$\\displaystyle 54.5981500331442$"
          },
          "metadata": {},
          "execution_count": 7
        }
      ]
    },
    {
      "cell_type": "markdown",
      "source": [
        "### Complex numbers in SymPy"
      ],
      "metadata": {
        "id": "TSrgCq4qV9Mi"
      }
    },
    {
      "cell_type": "markdown",
      "source": [
        "Let's now focus on complex numbers. The imaginary unit $\\mathrm{i}$ is defined in SymPy as `sy.I`:"
      ],
      "metadata": {
        "id": "8Q7FgkV-FCWj"
      }
    },
    {
      "cell_type": "code",
      "source": [
        "sy.I"
      ],
      "metadata": {
        "colab": {
          "base_uri": "https://localhost:8080/",
          "height": 60
        },
        "id": "A4AYFTzUDgGs",
        "outputId": "bbe4697e-edcf-49a9-bf0c-665bf3452b71"
      },
      "execution_count": 8,
      "outputs": [
        {
          "output_type": "execute_result",
          "data": {
            "text/plain": [
              "I"
            ],
            "text/latex": "$\\displaystyle i$"
          },
          "metadata": {},
          "execution_count": 8
        }
      ]
    },
    {
      "cell_type": "code",
      "source": [
        "(sy.I)**2"
      ],
      "metadata": {
        "colab": {
          "base_uri": "https://localhost:8080/",
          "height": 58
        },
        "id": "d5-Pl0rADlhK",
        "outputId": "df61fb97-7d71-4668-e5da-9f1d71dd2226"
      },
      "execution_count": 9,
      "outputs": [
        {
          "output_type": "execute_result",
          "data": {
            "text/plain": [
              "-1"
            ],
            "text/latex": "$\\displaystyle -1$"
          },
          "metadata": {},
          "execution_count": 9
        }
      ]
    },
    {
      "cell_type": "markdown",
      "source": [
        "We can do all sorts of arithmetic computations with complex numbers in `sympy`:"
      ],
      "metadata": {
        "id": "VKMkXMLtV30g"
      }
    },
    {
      "cell_type": "code",
      "source": [
        "z = 2 + 3*sy.I\n",
        "z"
      ],
      "metadata": {
        "colab": {
          "base_uri": "https://localhost:8080/",
          "height": 60
        },
        "id": "28vpCA0JFP3S",
        "outputId": "a17a7632-af46-4013-e9e9-c656313e3bad"
      },
      "execution_count": 10,
      "outputs": [
        {
          "output_type": "execute_result",
          "data": {
            "text/plain": [
              "2 + 3*I"
            ],
            "text/latex": "$\\displaystyle 2 + 3 i$"
          },
          "metadata": {},
          "execution_count": 10
        }
      ]
    },
    {
      "cell_type": "code",
      "source": [
        "w = 4 - 6*sy.I\n",
        "w"
      ],
      "metadata": {
        "colab": {
          "base_uri": "https://localhost:8080/",
          "height": 60
        },
        "id": "fKPhmRbYFctq",
        "outputId": "979c671e-c41a-4013-efd8-b2cd548c5cf3"
      },
      "execution_count": 11,
      "outputs": [
        {
          "output_type": "execute_result",
          "data": {
            "text/plain": [
              "4 - 6*I"
            ],
            "text/latex": "$\\displaystyle 4 - 6 i$"
          },
          "metadata": {},
          "execution_count": 11
        }
      ]
    },
    {
      "cell_type": "code",
      "source": [
        "z*w"
      ],
      "metadata": {
        "colab": {
          "base_uri": "https://localhost:8080/",
          "height": 60
        },
        "id": "lTNXvM1NFsXB",
        "outputId": "7ea47ddf-289c-4ae5-a02c-5f60e178bff1"
      },
      "execution_count": 12,
      "outputs": [
        {
          "output_type": "execute_result",
          "data": {
            "text/plain": [
              "(2 + 3*I)*(4 - 6*I)"
            ],
            "text/latex": "$\\displaystyle \\left(2 + 3 i\\right) \\left(4 - 6 i\\right)$"
          },
          "metadata": {},
          "execution_count": 12
        }
      ]
    },
    {
      "cell_type": "markdown",
      "source": [
        "The above result is somewhat unsatisfactory as SymPy apparently does not carry out the multiplication. To force it to do so, we apply the `expand()` method."
      ],
      "metadata": {
        "id": "MkFblOjNWBNT"
      }
    },
    {
      "cell_type": "code",
      "source": [
        "(z*w).expand()"
      ],
      "metadata": {
        "colab": {
          "base_uri": "https://localhost:8080/",
          "height": 58
        },
        "id": "YEhWDQi1FwPW",
        "outputId": "602f199d-c019-4f1e-c9ec-c4c726685957"
      },
      "execution_count": 13,
      "outputs": [
        {
          "output_type": "execute_result",
          "data": {
            "text/plain": [
              "26"
            ],
            "text/latex": "$\\displaystyle 26$"
          },
          "metadata": {},
          "execution_count": 13
        }
      ]
    },
    {
      "cell_type": "markdown",
      "source": [
        "Note that `expand` has to be applied to the entire expression `z*w` which is why we have to use parenthesis. Without parenthesis, `expand()` would only refer to `w`."
      ],
      "metadata": {
        "id": "xT1QQFoqWig0"
      }
    },
    {
      "cell_type": "code",
      "source": [
        "z*w.expand()"
      ],
      "metadata": {
        "colab": {
          "base_uri": "https://localhost:8080/",
          "height": 60
        },
        "id": "pzcwxRQAWZ_e",
        "outputId": "09b95d94-5db6-4786-b7fb-73c585690075"
      },
      "execution_count": 14,
      "outputs": [
        {
          "output_type": "execute_result",
          "data": {
            "text/plain": [
              "(2 + 3*I)*(4 - 6*I)"
            ],
            "text/latex": "$\\displaystyle \\left(2 + 3 i\\right) \\left(4 - 6 i\\right)$"
          },
          "metadata": {},
          "execution_count": 14
        }
      ]
    },
    {
      "cell_type": "markdown",
      "source": [
        "`sy.simplify()` forces SymPy to simplify the expression to which it is applied. For our example, it has the same effect as `expand()`:"
      ],
      "metadata": {
        "id": "7OG09B7-Wkf6"
      }
    },
    {
      "cell_type": "code",
      "source": [
        "(z*w).simplify()"
      ],
      "metadata": {
        "colab": {
          "base_uri": "https://localhost:8080/",
          "height": 58
        },
        "id": "I6iwlivmF9hk",
        "outputId": "1a69f90f-6023-451c-d529-dabb67fdc501"
      },
      "execution_count": 15,
      "outputs": [
        {
          "output_type": "execute_result",
          "data": {
            "text/plain": [
              "26"
            ],
            "text/latex": "$\\displaystyle 26$"
          },
          "metadata": {},
          "execution_count": 15
        }
      ]
    },
    {
      "cell_type": "markdown",
      "source": [
        "#### Example:\n",
        "Let $z_1 = 1+2i, z_2 = 3-4i$ and $z_3 = -i$.\n",
        "Compute the imaginary part of $\\frac{z_1 \\cdot z_3}{4z_2-z_3}$"
      ],
      "metadata": {
        "id": "U-MNSOuPGyzj"
      }
    },
    {
      "cell_type": "code",
      "source": [
        "z1 = 1+2*sy.I\n",
        "z2 = 3-4*sy.I\n",
        "z3 = -sy.I\n",
        "\n",
        "w = z1*z3/(4*z2-z3)\n",
        "w"
      ],
      "metadata": {
        "colab": {
          "base_uri": "https://localhost:8080/",
          "height": 73
        },
        "id": "2f_TBujvGwzg",
        "outputId": "0a8798f7-f682-4926-a5ca-da80238a01ae"
      },
      "execution_count": 16,
      "outputs": [
        {
          "output_type": "execute_result",
          "data": {
            "text/plain": [
              "-I*(1 + 2*I)*(12 + 15*I)/369"
            ],
            "text/latex": "$\\displaystyle - \\frac{i \\left(1 + 2 i\\right) \\left(12 + 15 i\\right)}{369}$"
          },
          "metadata": {},
          "execution_count": 16
        }
      ]
    },
    {
      "cell_type": "code",
      "source": [
        "w.simplify()"
      ],
      "metadata": {
        "colab": {
          "base_uri": "https://localhost:8080/",
          "height": 72
        },
        "id": "bkdqFTnoHxtK",
        "outputId": "eed863f4-8542-4172-8a04-c3b7d511ac52"
      },
      "execution_count": 17,
      "outputs": [
        {
          "output_type": "execute_result",
          "data": {
            "text/plain": [
              "13/123 + 2*I/41"
            ],
            "text/latex": "$\\displaystyle \\frac{13}{123} + \\frac{2 i}{41}$"
          },
          "metadata": {},
          "execution_count": 17
        }
      ]
    },
    {
      "cell_type": "code",
      "source": [
        "(z1*z3/(4*z2-z3)).simplify()"
      ],
      "metadata": {
        "colab": {
          "base_uri": "https://localhost:8080/",
          "height": 72
        },
        "id": "yi8O0suZHzwt",
        "outputId": "189fc96b-b697-4225-b3df-96e08b126c35"
      },
      "execution_count": 18,
      "outputs": [
        {
          "output_type": "execute_result",
          "data": {
            "text/plain": [
              "13/123 + 2*I/41"
            ],
            "text/latex": "$\\displaystyle \\frac{13}{123} + \\frac{2 i}{41}$"
          },
          "metadata": {},
          "execution_count": 18
        }
      ]
    },
    {
      "cell_type": "markdown",
      "source": [
        "### Complex conjugation in SymPy"
      ],
      "metadata": {
        "id": "u69MiVKOIepK"
      }
    },
    {
      "cell_type": "code",
      "source": [
        "z"
      ],
      "metadata": {
        "colab": {
          "base_uri": "https://localhost:8080/",
          "height": 60
        },
        "id": "1u6KlLu2Idit",
        "outputId": "d4a09b43-8962-4970-fcb0-d9061f4bdbab"
      },
      "execution_count": 19,
      "outputs": [
        {
          "output_type": "execute_result",
          "data": {
            "text/plain": [
              "2 + 3*I"
            ],
            "text/latex": "$\\displaystyle 2 + 3 i$"
          },
          "metadata": {},
          "execution_count": 19
        }
      ]
    },
    {
      "cell_type": "code",
      "source": [
        "z.conjugate()"
      ],
      "metadata": {
        "colab": {
          "base_uri": "https://localhost:8080/",
          "height": 60
        },
        "id": "F9dX-Gd-IMSB",
        "outputId": "a50d4e3d-419b-4da5-8daa-1bfc7f0e4af3"
      },
      "execution_count": 20,
      "outputs": [
        {
          "output_type": "execute_result",
          "data": {
            "text/plain": [
              "2 - 3*I"
            ],
            "text/latex": "$\\displaystyle 2 - 3 i$"
          },
          "metadata": {},
          "execution_count": 20
        }
      ]
    },
    {
      "cell_type": "markdown",
      "source": [
        "### Absolute value in SymPy"
      ],
      "metadata": {
        "id": "0-vMXG7bInpi"
      }
    },
    {
      "cell_type": "code",
      "source": [
        "z"
      ],
      "metadata": {
        "colab": {
          "base_uri": "https://localhost:8080/",
          "height": 60
        },
        "id": "OCLA4kZ8Ijv0",
        "outputId": "fe201c92-c865-4a91-e106-d04e1af2e462"
      },
      "execution_count": 21,
      "outputs": [
        {
          "output_type": "execute_result",
          "data": {
            "text/plain": [
              "2 + 3*I"
            ],
            "text/latex": "$\\displaystyle 2 + 3 i$"
          },
          "metadata": {},
          "execution_count": 21
        }
      ]
    },
    {
      "cell_type": "code",
      "source": [
        "sy.Abs(z)"
      ],
      "metadata": {
        "colab": {
          "base_uri": "https://localhost:8080/",
          "height": 59
        },
        "id": "lnSxHPZvIrVW",
        "outputId": "a595d009-1b96-4e16-903a-437b8a303b5b"
      },
      "execution_count": 22,
      "outputs": [
        {
          "output_type": "execute_result",
          "data": {
            "text/plain": [
              "sqrt(13)"
            ],
            "text/latex": "$\\displaystyle \\sqrt{13}$"
          },
          "metadata": {},
          "execution_count": 22
        }
      ]
    },
    {
      "cell_type": "code",
      "source": [
        "abs(z)"
      ],
      "metadata": {
        "colab": {
          "base_uri": "https://localhost:8080/",
          "height": 59
        },
        "id": "AVTNXxiSIsh8",
        "outputId": "5b228d60-df21-40f6-e78e-d043e47bdc48"
      },
      "execution_count": 23,
      "outputs": [
        {
          "output_type": "execute_result",
          "data": {
            "text/plain": [
              "sqrt(13)"
            ],
            "text/latex": "$\\displaystyle \\sqrt{13}$"
          },
          "metadata": {},
          "execution_count": 23
        }
      ]
    },
    {
      "cell_type": "markdown",
      "source": [
        "### Angle of a complex number in SymPy"
      ],
      "metadata": {
        "id": "1kv_TNT9I-bR"
      }
    },
    {
      "cell_type": "code",
      "source": [
        "z"
      ],
      "metadata": {
        "colab": {
          "base_uri": "https://localhost:8080/",
          "height": 60
        },
        "id": "c0fsl3H6Iydh",
        "outputId": "d20622c7-3e90-4b15-c270-0a1be79a4697"
      },
      "execution_count": 24,
      "outputs": [
        {
          "output_type": "execute_result",
          "data": {
            "text/plain": [
              "2 + 3*I"
            ],
            "text/latex": "$\\displaystyle 2 + 3 i$"
          },
          "metadata": {},
          "execution_count": 24
        }
      ]
    },
    {
      "cell_type": "code",
      "source": [
        "sy.arg(z)"
      ],
      "metadata": {
        "colab": {
          "base_uri": "https://localhost:8080/",
          "height": 79
        },
        "id": "pFLsIaZmJTCM",
        "outputId": "5a12de81-493c-400d-b1ea-dda264bf0984"
      },
      "execution_count": 25,
      "outputs": [
        {
          "output_type": "execute_result",
          "data": {
            "text/plain": [
              "atan(3/2)"
            ],
            "text/latex": "$\\displaystyle \\operatorname{atan}{\\left(\\frac{3}{2} \\right)}$"
          },
          "metadata": {},
          "execution_count": 25
        }
      ]
    },
    {
      "cell_type": "markdown",
      "source": [
        "In the above example, the arctangent of $\\frac{3}{2}$ cannot be simplified in an obvious manner which is why SymPy leaves the expression as it is. In order to get an approximate numerical value, we again use `evalf()`:"
      ],
      "metadata": {
        "id": "cxuQDvKvW6Yb"
      }
    },
    {
      "cell_type": "code",
      "source": [
        "sy.arg(z).evalf()"
      ],
      "metadata": {
        "colab": {
          "base_uri": "https://localhost:8080/",
          "height": 58
        },
        "id": "NuGY1fP4JG6U",
        "outputId": "7b8243b4-45e3-4d41-94da-04eca5f09921"
      },
      "execution_count": 26,
      "outputs": [
        {
          "output_type": "execute_result",
          "data": {
            "text/plain": [
              "0.982793723247329"
            ],
            "text/latex": "$\\displaystyle 0.982793723247329$"
          },
          "metadata": {},
          "execution_count": 26
        }
      ]
    },
    {
      "cell_type": "code",
      "source": [
        "w = 1+sy.I\n",
        "sy.arg(w)"
      ],
      "metadata": {
        "colab": {
          "base_uri": "https://localhost:8080/",
          "height": 68
        },
        "id": "mw24bnDdJJQc",
        "outputId": "37bad223-2071-4bef-e1a2-baf6e4b76324"
      },
      "execution_count": 27,
      "outputs": [
        {
          "output_type": "execute_result",
          "data": {
            "text/plain": [
              "pi/4"
            ],
            "text/latex": "$\\displaystyle \\frac{\\pi}{4}$"
          },
          "metadata": {},
          "execution_count": 27
        }
      ]
    },
    {
      "cell_type": "code",
      "source": [
        "w.conjugate()"
      ],
      "metadata": {
        "colab": {
          "base_uri": "https://localhost:8080/",
          "height": 60
        },
        "id": "e0dqbwyXJZgi",
        "outputId": "a355077d-0c14-4a45-9e32-db75755667e9"
      },
      "execution_count": 28,
      "outputs": [
        {
          "output_type": "execute_result",
          "data": {
            "text/plain": [
              "1 - I"
            ],
            "text/latex": "$\\displaystyle 1 - i$"
          },
          "metadata": {},
          "execution_count": 28
        }
      ]
    },
    {
      "cell_type": "code",
      "source": [
        "sy.arg(w.conjugate())"
      ],
      "metadata": {
        "colab": {
          "base_uri": "https://localhost:8080/",
          "height": 68
        },
        "id": "d-saWaZsJr0y",
        "outputId": "bbb744c2-03af-49ee-baf2-f4bb2aeec58d"
      },
      "execution_count": 29,
      "outputs": [
        {
          "output_type": "execute_result",
          "data": {
            "text/plain": [
              "-pi/4"
            ],
            "text/latex": "$\\displaystyle - \\frac{\\pi}{4}$"
          },
          "metadata": {},
          "execution_count": 29
        }
      ]
    },
    {
      "cell_type": "markdown",
      "source": [
        "### Complex numbers in exponential form"
      ],
      "metadata": {
        "id": "YhYZul-cKVpA"
      }
    },
    {
      "cell_type": "code",
      "source": [
        "z = 2*sy.exp(sy.I * (-sy.pi))\n",
        "z"
      ],
      "metadata": {
        "colab": {
          "base_uri": "https://localhost:8080/",
          "height": 58
        },
        "id": "uBAVlkddJuxG",
        "outputId": "5a3968a9-2b75-4a1f-b9cf-eccc9d74b80e"
      },
      "execution_count": 30,
      "outputs": [
        {
          "output_type": "execute_result",
          "data": {
            "text/plain": [
              "-2"
            ],
            "text/latex": "$\\displaystyle -2$"
          },
          "metadata": {},
          "execution_count": 30
        }
      ]
    },
    {
      "cell_type": "markdown",
      "source": [
        "### Real and imaginary parts in SymPy"
      ],
      "metadata": {
        "id": "IqNoSrxOKxO4"
      }
    },
    {
      "cell_type": "code",
      "source": [
        "z = 2+3*sy.I\n",
        "z"
      ],
      "metadata": {
        "colab": {
          "base_uri": "https://localhost:8080/",
          "height": 60
        },
        "id": "qs0CHdI_KdcW",
        "outputId": "4f7c0953-4855-434c-db8c-654b89a3952f"
      },
      "execution_count": 31,
      "outputs": [
        {
          "output_type": "execute_result",
          "data": {
            "text/plain": [
              "2 + 3*I"
            ],
            "text/latex": "$\\displaystyle 2 + 3 i$"
          },
          "metadata": {},
          "execution_count": 31
        }
      ]
    },
    {
      "cell_type": "code",
      "source": [
        "sy.re(z)"
      ],
      "metadata": {
        "colab": {
          "base_uri": "https://localhost:8080/",
          "height": 58
        },
        "id": "GwnBLsJaK2Jx",
        "outputId": "4347f3e7-0922-44a2-9274-1785e49723ac"
      },
      "execution_count": 32,
      "outputs": [
        {
          "output_type": "execute_result",
          "data": {
            "text/plain": [
              "2"
            ],
            "text/latex": "$\\displaystyle 2$"
          },
          "metadata": {},
          "execution_count": 32
        }
      ]
    },
    {
      "cell_type": "code",
      "source": [
        "sy.im(z)"
      ],
      "metadata": {
        "colab": {
          "base_uri": "https://localhost:8080/",
          "height": 58
        },
        "id": "0M0dNSIHK4yA",
        "outputId": "2560041e-0483-42ac-e2ab-2ea8941b0fa9"
      },
      "execution_count": 33,
      "outputs": [
        {
          "output_type": "execute_result",
          "data": {
            "text/plain": [
              "3"
            ],
            "text/latex": "$\\displaystyle 3$"
          },
          "metadata": {},
          "execution_count": 33
        }
      ]
    },
    {
      "cell_type": "code",
      "source": [
        "w = 3*sy.exp(sy.I * (-sy.pi/3))\n",
        "w"
      ],
      "metadata": {
        "colab": {
          "base_uri": "https://localhost:8080/",
          "height": 61
        },
        "id": "aakK1IMNK6Yw",
        "outputId": "591d2254-2794-476f-9f7c-2fb69c61198b"
      },
      "execution_count": 34,
      "outputs": [
        {
          "output_type": "execute_result",
          "data": {
            "text/plain": [
              "3*exp(-I*pi/3)"
            ],
            "text/latex": "$\\displaystyle 3 e^{- \\frac{i \\pi}{3}}$"
          },
          "metadata": {},
          "execution_count": 34
        }
      ]
    },
    {
      "cell_type": "code",
      "source": [
        "sy.re(w)"
      ],
      "metadata": {
        "colab": {
          "base_uri": "https://localhost:8080/",
          "height": 72
        },
        "id": "HG4dyEcgLCgC",
        "outputId": "bbf49774-162a-40f8-c574-317b241bbaa9"
      },
      "execution_count": 35,
      "outputs": [
        {
          "output_type": "execute_result",
          "data": {
            "text/plain": [
              "3/2"
            ],
            "text/latex": "$\\displaystyle \\frac{3}{2}$"
          },
          "metadata": {},
          "execution_count": 35
        }
      ]
    },
    {
      "cell_type": "code",
      "source": [
        "sy.im(w)"
      ],
      "metadata": {
        "colab": {
          "base_uri": "https://localhost:8080/",
          "height": 76
        },
        "id": "q9mSCsSULFnj",
        "outputId": "0de3721a-2f95-44ef-fbaa-8e6cfabb381e"
      },
      "execution_count": 36,
      "outputs": [
        {
          "output_type": "execute_result",
          "data": {
            "text/plain": [
              "-3*sqrt(3)/2"
            ],
            "text/latex": "$\\displaystyle - \\frac{3 \\sqrt{3}}{2}$"
          },
          "metadata": {},
          "execution_count": 36
        }
      ]
    },
    {
      "cell_type": "code",
      "source": [],
      "metadata": {
        "id": "VwNx72-tLJC9"
      },
      "execution_count": 36,
      "outputs": []
    }
  ]
}