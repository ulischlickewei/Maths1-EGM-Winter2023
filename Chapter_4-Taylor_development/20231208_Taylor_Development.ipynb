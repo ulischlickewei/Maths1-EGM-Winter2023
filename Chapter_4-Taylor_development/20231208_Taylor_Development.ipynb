{
  "nbformat": 4,
  "nbformat_minor": 0,
  "metadata": {
    "colab": {
      "provenance": [],
      "authorship_tag": "ABX9TyNTQf5XlPjXcqCqKSumSJLC",
      "include_colab_link": true
    },
    "kernelspec": {
      "name": "python3",
      "display_name": "Python 3"
    },
    "language_info": {
      "name": "python"
    }
  },
  "cells": [
    {
      "cell_type": "markdown",
      "metadata": {
        "id": "view-in-github",
        "colab_type": "text"
      },
      "source": [
        "<a href=\"https://colab.research.google.com/github/ulischlickewei/Maths1-EGM-Winter2023/blob/main/Chapter_4-Taylor_development/20231208_Taylor_Development.ipynb\" target=\"_parent\"><img src=\"https://colab.research.google.com/assets/colab-badge.svg\" alt=\"Open In Colab\"/></a>"
      ]
    },
    {
      "cell_type": "code",
      "execution_count": null,
      "metadata": {
        "id": "FF4-zaG2dNFW"
      },
      "outputs": [],
      "source": [
        "def taylor(x, f, x0, n):\n",
        "  \"\"\"Inputs: x=symbolic variable, f = SymPy expression in x,\n",
        "  x0 = point of development for Taylor polynomial,\n",
        "  n = degree of the desired Taylor polynomial\n",
        "\n",
        "  Output: SymPy expression which represents the n-th\n",
        "  Taylor polynomial of f at x0\"\"\"\n",
        "\n",
        "  import sympy as sy\n",
        "  Tn = 0 # Taylor polynomial\n",
        "  for k in range(n+1):\n",
        "    Tn += sy.diff(f,x,k).subs(x,x0) / sy.factorial(k) * (\n",
        "        (x-x0)**k\n",
        "    )\n",
        "  return Tn"
      ]
    },
    {
      "cell_type": "code",
      "source": [
        "help(taylor)"
      ],
      "metadata": {
        "colab": {
          "base_uri": "https://localhost:8080/"
        },
        "id": "cxMcqF59evHV",
        "outputId": "63c385c5-00b7-490c-a2ac-62ffb73cab70"
      },
      "execution_count": null,
      "outputs": [
        {
          "output_type": "stream",
          "name": "stdout",
          "text": [
            "Help on function taylor in module __main__:\n",
            "\n",
            "taylor(x, f, x0, n)\n",
            "    Inputs: x=symbolic variable, f = SymPy expression in x,\n",
            "    x0 = point of development for Taylor polynomial,\n",
            "    n = degree of the desired Taylor polynomial\n",
            "    \n",
            "    Output: SymPy expression which represents the n-th \n",
            "    Taylor polynomial of f at x0\n",
            "\n"
          ]
        }
      ]
    },
    {
      "cell_type": "code",
      "source": [
        "from sympy import *\n",
        "x = symbols('x')\n",
        "f = x**3 + 3*x**2 - 2*x + 1\n",
        "f"
      ],
      "metadata": {
        "colab": {
          "base_uri": "https://localhost:8080/",
          "height": 60
        },
        "id": "aU3mO_thfyIm",
        "outputId": "95d3e767-421b-468b-eacb-23c7b1eee6cd"
      },
      "execution_count": null,
      "outputs": [
        {
          "output_type": "execute_result",
          "data": {
            "text/plain": [
              "x**3 + 3*x**2 - 2*x + 1"
            ],
            "text/latex": "$\\displaystyle x^{3} + 3 x^{2} - 2 x + 1$"
          },
          "metadata": {},
          "execution_count": 2
        }
      ]
    },
    {
      "cell_type": "code",
      "source": [
        "taylor(x,f,2,2)"
      ],
      "metadata": {
        "colab": {
          "base_uri": "https://localhost:8080/",
          "height": 60
        },
        "id": "_A9ZUa2iewG-",
        "outputId": "7bbcce0f-a643-4aab-b5ca-21e502b91605"
      },
      "execution_count": null,
      "outputs": [
        {
          "output_type": "execute_result",
          "data": {
            "text/plain": [
              "22*x + 9*(x - 2)**2 - 27"
            ],
            "text/latex": "$\\displaystyle 22 x + 9 \\left(x - 2\\right)^{2} - 27$"
          },
          "metadata": {},
          "execution_count": 3
        }
      ]
    },
    {
      "cell_type": "markdown",
      "source": [
        "## 2.) Taylor polynomials with SymPy\n",
        "\n",
        "SymPy has a built-in function for computing Taylor polynomials. This function is `sympy.series()`. It takes the following arguments:"
      ],
      "metadata": {
        "id": "UvZbBrSJhHJA"
      }
    },
    {
      "cell_type": "markdown",
      "source": [
        "- `f`: the symbolic expression which we want to develop\n",
        "- `x`: the symbolic variable with respect to which we want to develop\n",
        "- `x0`: the point of development\n",
        "- `n`: the degree of the Taylor polynimial (be careful: `n = k` leads to the `k-1`-st Taylor polynomial)"
      ],
      "metadata": {
        "id": "pH9PRpEqhm6K"
      }
    },
    {
      "cell_type": "code",
      "source": [
        "f"
      ],
      "metadata": {
        "colab": {
          "base_uri": "https://localhost:8080/",
          "height": 38
        },
        "id": "wJjIFQlfh_vq",
        "outputId": "74c24054-6175-4ea4-fa2a-00aba477643c"
      },
      "execution_count": null,
      "outputs": [
        {
          "output_type": "execute_result",
          "data": {
            "text/plain": [
              "x**3 + 3*x**2 - 2*x + 1"
            ],
            "text/latex": "$\\displaystyle x^{3} + 3 x^{2} - 2 x + 1$"
          },
          "metadata": {},
          "execution_count": 8
        }
      ]
    },
    {
      "cell_type": "code",
      "source": [
        "series(f,x,2,3)"
      ],
      "metadata": {
        "colab": {
          "base_uri": "https://localhost:8080/",
          "height": 47
        },
        "id": "Xfiq2C7riCp8",
        "outputId": "171f44a1-a653-4e98-dc3a-7ee4789e24b1"
      },
      "execution_count": null,
      "outputs": [
        {
          "output_type": "execute_result",
          "data": {
            "text/plain": [
              "-27 + 9*(x - 2)**2 + 22*x + O((x - 2)**3, (x, 2))"
            ],
            "text/latex": "$\\displaystyle -27 + 9 \\left(x - 2\\right)^{2} + 22 x + O\\left(\\left(x - 2\\right)^{3}; x\\rightarrow 2\\right)$"
          },
          "metadata": {},
          "execution_count": 9
        }
      ]
    },
    {
      "cell_type": "code",
      "source": [
        "series(f,x,2,3).removeO()"
      ],
      "metadata": {
        "colab": {
          "base_uri": "https://localhost:8080/",
          "height": 39
        },
        "id": "KzJgluq_imY1",
        "outputId": "d54d440b-b86d-4ea8-9664-0262a7d78b07"
      },
      "execution_count": null,
      "outputs": [
        {
          "output_type": "execute_result",
          "data": {
            "text/plain": [
              "22*x + 9*(x - 2)**2 - 27"
            ],
            "text/latex": "$\\displaystyle 22 x + 9 \\left(x - 2\\right)^{2} - 27$"
          },
          "metadata": {},
          "execution_count": 10
        }
      ]
    },
    {
      "cell_type": "markdown",
      "source": [
        "## 3.) Taylor polynomial of sine function"
      ],
      "metadata": {
        "id": "czwY-yiuhBAx"
      }
    },
    {
      "cell_type": "code",
      "source": [
        "T1=series(sin(x),x,0,2)\n",
        "T1"
      ],
      "metadata": {
        "colab": {
          "base_uri": "https://localhost:8080/",
          "height": 38
        },
        "id": "GhIJrM9bgEwH",
        "outputId": "a33058dc-bd9b-4b6f-85cc-5a0eba503ee2"
      },
      "execution_count": null,
      "outputs": [
        {
          "output_type": "execute_result",
          "data": {
            "text/plain": [
              "x + O(x**2)"
            ],
            "text/latex": "$\\displaystyle x + O\\left(x^{2}\\right)$"
          },
          "metadata": {},
          "execution_count": 15
        }
      ]
    },
    {
      "cell_type": "code",
      "source": [
        "T3=series(sin(x),x,0,4)\n",
        "T3"
      ],
      "metadata": {
        "colab": {
          "base_uri": "https://localhost:8080/",
          "height": 54
        },
        "id": "J4hBEFk9jSnM",
        "outputId": "fbd3d03a-febb-40a4-bfb3-047dd75ec237"
      },
      "execution_count": null,
      "outputs": [
        {
          "output_type": "execute_result",
          "data": {
            "text/plain": [
              "x - x**3/6 + O(x**4)"
            ],
            "text/latex": "$\\displaystyle x - \\frac{x^{3}}{6} + O\\left(x^{4}\\right)$"
          },
          "metadata": {},
          "execution_count": 16
        }
      ]
    },
    {
      "cell_type": "code",
      "source": [
        "T5=series(sin(x),x,0,6)\n",
        "T5"
      ],
      "metadata": {
        "colab": {
          "base_uri": "https://localhost:8080/",
          "height": 54
        },
        "id": "HM2ECIHyjcnR",
        "outputId": "f84232d0-3c6c-4ebd-bf07-0db1d5c768f2"
      },
      "execution_count": null,
      "outputs": [
        {
          "output_type": "execute_result",
          "data": {
            "text/plain": [
              "x - x**3/6 + x**5/120 + O(x**6)"
            ],
            "text/latex": "$\\displaystyle x - \\frac{x^{3}}{6} + \\frac{x^{5}}{120} + O\\left(x^{6}\\right)$"
          },
          "metadata": {},
          "execution_count": 17
        }
      ]
    },
    {
      "cell_type": "code",
      "source": [
        "T7=series(sin(x),x,0,8)\n",
        "T7"
      ],
      "metadata": {
        "colab": {
          "base_uri": "https://localhost:8080/",
          "height": 54
        },
        "id": "fSzA8jKvjp2d",
        "outputId": "c26d99d7-df56-49ad-ad1a-831dc51ce40f"
      },
      "execution_count": null,
      "outputs": [
        {
          "output_type": "execute_result",
          "data": {
            "text/plain": [
              "x - x**3/6 + x**5/120 - x**7/5040 + O(x**8)"
            ],
            "text/latex": "$\\displaystyle x - \\frac{x^{3}}{6} + \\frac{x^{5}}{120} - \\frac{x^{7}}{5040} + O\\left(x^{8}\\right)$"
          },
          "metadata": {},
          "execution_count": 18
        }
      ]
    },
    {
      "cell_type": "code",
      "source": [
        "plot((sin(x),(x,-pi,pi)),\n",
        "     (T1.removeO(),(x,-pi,pi)),\n",
        "     (T3.removeO(),(x,-pi,pi)),\n",
        "     (T5.removeO(),(x,-pi,pi)),\n",
        "     (T7.removeO(),(x,-pi,pi)))"
      ],
      "metadata": {
        "colab": {
          "base_uri": "https://localhost:8080/",
          "height": 504
        },
        "id": "b0NLVrA2jsqK",
        "outputId": "73d775c6-8749-4576-868d-222f19f5568d"
      },
      "execution_count": null,
      "outputs": [
        {
          "output_type": "display_data",
          "data": {
            "text/plain": [
              "<Figure size 640x480 with 1 Axes>"
            ],
            "image/png": "[encoded data removed]"
          },
          "metadata": {}
        },
        {
          "output_type": "execute_result",
          "data": {
            "text/plain": [
              "<sympy.plotting.plot.Plot at 0x7abc22c7a050>"
            ]
          },
          "metadata": {},
          "execution_count": 20
        }
      ]
    },
    {
      "cell_type": "markdown",
      "source": [
        "## 4.) Approximation error"
      ],
      "metadata": {
        "id": "8iTxQNm_oF-0"
      }
    },
    {
      "cell_type": "code",
      "source": [
        "1"
      ],
      "metadata": {
        "colab": {
          "base_uri": "https://localhost:8080/"
        },
        "id": "f_kKxTEvme9k",
        "outputId": "6fef1344-e96b-44d9-9362-aaf6a8099e01"
      },
      "execution_count": null,
      "outputs": [
        {
          "output_type": "execute_result",
          "data": {
            "text/plain": [
              "1"
            ]
          },
          "metadata": {},
          "execution_count": 21
        }
      ]
    },
    {
      "cell_type": "code",
      "source": [
        "(1-1/factorial(3)).evalf()"
      ],
      "metadata": {
        "colab": {
          "base_uri": "https://localhost:8080/",
          "height": 37
        },
        "id": "wVT3YUBsoO1R",
        "outputId": "91759028-a7c9-423b-f3fd-bd219ae4edbd"
      },
      "execution_count": null,
      "outputs": [
        {
          "output_type": "execute_result",
          "data": {
            "text/plain": [
              "0.833333333333333"
            ],
            "text/latex": "$\\displaystyle 0.833333333333333$"
          },
          "metadata": {},
          "execution_count": 24
        }
      ]
    },
    {
      "cell_type": "code",
      "source": [
        "1/24"
      ],
      "metadata": {
        "colab": {
          "base_uri": "https://localhost:8080/"
        },
        "id": "dC42SBQwysS0",
        "outputId": "a45b23cf-a68e-43be-cf18-73b07bf6839d"
      },
      "execution_count": null,
      "outputs": [
        {
          "output_type": "execute_result",
          "data": {
            "text/plain": [
              "0.041666666666666664"
            ]
          },
          "metadata": {},
          "execution_count": 29
        }
      ]
    },
    {
      "cell_type": "code",
      "source": [
        "(1-1/factorial(3) + 1/factorial(5)).evalf()"
      ],
      "metadata": {
        "colab": {
          "base_uri": "https://localhost:8080/",
          "height": 37
        },
        "id": "f0EhOBr5oRtA",
        "outputId": "73410bb2-9165-43a3-d750-d762a9ac34f6"
      },
      "execution_count": null,
      "outputs": [
        {
          "output_type": "execute_result",
          "data": {
            "text/plain": [
              "0.841666666666667"
            ],
            "text/latex": "$\\displaystyle 0.841666666666667$"
          },
          "metadata": {},
          "execution_count": 26
        }
      ]
    },
    {
      "cell_type": "code",
      "source": [
        "1/720"
      ],
      "metadata": {
        "colab": {
          "base_uri": "https://localhost:8080/"
        },
        "id": "nrWAW6xZyy7B",
        "outputId": "ca3a8ddd-5d94-4d6b-b9e8-2043511bffa7"
      },
      "execution_count": null,
      "outputs": [
        {
          "output_type": "execute_result",
          "data": {
            "text/plain": [
              "0.001388888888888889"
            ]
          },
          "metadata": {},
          "execution_count": 31
        }
      ]
    },
    {
      "cell_type": "code",
      "source": [
        "sin(1).evalf()"
      ],
      "metadata": {
        "colab": {
          "base_uri": "https://localhost:8080/",
          "height": 37
        },
        "id": "KEn0zVUsoasV",
        "outputId": "6f151873-9326-4e06-b500-6f207f5beecf"
      },
      "execution_count": null,
      "outputs": [
        {
          "output_type": "execute_result",
          "data": {
            "text/plain": [
              "0.841470984807897"
            ],
            "text/latex": "$\\displaystyle 0.841470984807897$"
          },
          "metadata": {},
          "execution_count": 28
        }
      ]
    },
    {
      "cell_type": "markdown",
      "source": [
        "## 4.) Exercise sheet 7, ex 3(a)"
      ],
      "metadata": {
        "id": "tvZopLHh2r8n"
      }
    },
    {
      "cell_type": "code",
      "source": [
        "f=1/x"
      ],
      "metadata": {
        "id": "pQfRLnufofkV"
      },
      "execution_count": null,
      "outputs": []
    },
    {
      "cell_type": "code",
      "source": [
        "series(f,x,1,3)"
      ],
      "metadata": {
        "colab": {
          "base_uri": "https://localhost:8080/",
          "height": 47
        },
        "id": "95yN2fCd2xoH",
        "outputId": "07690050-29fe-49ee-ea3b-15824cacb34c"
      },
      "execution_count": null,
      "outputs": [
        {
          "output_type": "execute_result",
          "data": {
            "text/plain": [
              "2 + (x - 1)**2 - x + O((x - 1)**3, (x, 1))"
            ],
            "text/latex": "$\\displaystyle 2 + \\left(x - 1\\right)^{2} - x + O\\left(\\left(x - 1\\right)^{3}; x\\rightarrow 1\\right)$"
          },
          "metadata": {},
          "execution_count": 33
        }
      ]
    },
    {
      "cell_type": "code",
      "source": [
        "#third derivative of f\n",
        "diff(f,x,3)"
      ],
      "metadata": {
        "colab": {
          "base_uri": "https://localhost:8080/",
          "height": 51
        },
        "id": "GCsnnsSA24Z7",
        "outputId": "588875d7-bdef-44b5-e266-b6cfe0003559"
      },
      "execution_count": null,
      "outputs": [
        {
          "output_type": "execute_result",
          "data": {
            "text/plain": [
              "-6/x**4"
            ],
            "text/latex": "$\\displaystyle - \\frac{6}{x^{4}}$"
          },
          "metadata": {},
          "execution_count": 34
        }
      ]
    },
    {
      "cell_type": "code",
      "source": [
        "plot(diff(f,x,3),(x,0.7,1.3))"
      ],
      "metadata": {
        "colab": {
          "base_uri": "https://localhost:8080/",
          "height": 504
        },
        "id": "8jz2mtt05AjE",
        "outputId": "c0370d5e-9e10-41b5-9478-e9a81602e347"
      },
      "execution_count": null,
      "outputs": [
        {
          "output_type": "display_data",
          "data": {
            "text/plain": [
              "<Figure size 640x480 with 1 Axes>"
            ],
            "image/png": "[encoded data removed]"
          },
          "metadata": {}
        },
        {
          "output_type": "execute_result",
          "data": {
            "text/plain": [
              "<sympy.plotting.plot.Plot at 0x7abc22c79060>"
            ]
          },
          "metadata": {},
          "execution_count": 35
        }
      ]
    },
    {
      "cell_type": "code",
      "source": [
        "# Computing upper bound\n",
        "abs(diff(f,x,3).subs(x,0.7))/factorial(3) * 0.3**3"
      ],
      "metadata": {
        "colab": {
          "base_uri": "https://localhost:8080/",
          "height": 37
        },
        "id": "x_9dpp0M5KMC",
        "outputId": "dedb8960-ab1a-417f-8679-a6781b7450f0"
      },
      "execution_count": null,
      "outputs": [
        {
          "output_type": "execute_result",
          "data": {
            "text/plain": [
              "0.112453144523115"
            ],
            "text/latex": "$\\displaystyle 0.112453144523115$"
          },
          "metadata": {},
          "execution_count": 39
        }
      ]
    },
    {
      "cell_type": "code",
      "source": [],
      "metadata": {
        "id": "9KIV_W9Z7KTW"
      },
      "execution_count": null,
      "outputs": []
    }
  ]
}